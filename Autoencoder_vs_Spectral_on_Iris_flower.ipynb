{
 "cells": [
  {
   "cell_type": "code",
   "execution_count": 1,
   "metadata": {},
   "outputs": [],
   "source": [
    "# Get important libraries for this class.\n",
    "import tensorflow as tf\n",
    "import numpy as np\n",
    "import matplotlib.pyplot as plt\n",
    "import os\n",
    "import warnings\n",
    "import csv\n",
    "import random\n",
    "#--------------------------------------------------------\n",
    "from tensorflow.python.ops import control_flow_ops\n",
    "from IPython.display import clear_output\n",
    "from urllib.request import urlopen\n",
    "from scipy.spatial.distance import squareform, pdist\n",
    "from sklearn.preprocessing import normalize\n",
    "from numpy import linalg as LA\n",
    "from scipy.cluster.vq import kmeans, vq\n",
    "from sklearn.metrics import normalized_mutual_info_score\n",
    "from tqdm import tqdm\n",
    "#--------------------------------------------------------\n",
    "warnings.filterwarnings('ignore')"
   ]
  },
  {
   "cell_type": "code",
   "execution_count": 2,
   "metadata": {},
   "outputs": [],
   "source": [
    "class similarity_func:\n",
    "    def get_k_nn_column(self, k):\n",
    "        def f(vector):\n",
    "            v = np.zeros(len(vector))\n",
    "            indices = np.argsort(vector)\n",
    "            v[indices[0:k]] = vector[indices][0:k]\n",
    "            return v\n",
    "        return f\n",
    "    def get_k_nn_column_rev(self, k):\n",
    "        def f(vector):\n",
    "            v = np.zeros(len(vector))\n",
    "            rev_indices = np.argsort(vector)[::-1]\n",
    "            v[rev_indices[0:k]] = vector[rev_indices][0:k]\n",
    "            return v\n",
    "        return f\n",
    "    def sigmoidal_normalize(self, v):\n",
    "        v = (v - min(v)) / (max(v) - min(v))\n",
    "        return v"
   ]
  },
  {
   "cell_type": "code",
   "execution_count": 3,
   "metadata": {},
   "outputs": [],
   "source": [
    "class Cosine_Similarity(similarity_func):\n",
    "    def __init__(self, Normalize: object) -> object:\n",
    "        self.Normalize = Normalize\n",
    "    def get_matrix(self, data):\n",
    "        if self.Normalize:\n",
    "            data = normalize(data, axis=0)\n",
    "        m = squareform(pdist(data, 'cosine'))\n",
    "        m = np.dot(LA.matrix_power(np.diag(np.sum(m, 0)), -1), m)\n",
    "        if self.Normalize:\n",
    "            m = np.apply_along_axis(self.sigmoidal_normalize, 1, m)\n",
    "        np.fill_diagonal(m, 0.)\n",
    "        return m"
   ]
  },
  {
   "cell_type": "code",
   "execution_count": 4,
   "metadata": {},
   "outputs": [],
   "source": [
    "class Nearest_Neighbors_Similarity(similarity_func):\n",
    "    def __init__(self, Normalize: object) -> object:\n",
    "        self.Normalize = Normalize\n",
    "    def get_matrix(self, data):\n",
    "        if self.Normalize:\n",
    "            data = normalize(data, axis=0)\n",
    "        from sklearn.neighbors import kneighbors_graph\n",
    "        n_neighbors = max(int(data.shape[0] / 10), 1)\n",
    "        m = kneighbors_graph(data, n_neighbors, mode='connectivity', include_self=True)\n",
    "        m = m.toarray()\n",
    "        if self.Normalize:\n",
    "            m = np.apply_along_axis(self.sigmoidal_normalize, 1, m)\n",
    "        np.fill_diagonal(m, 0.)\n",
    "        return m"
   ]
  },
  {
   "cell_type": "code",
   "execution_count": 5,
   "metadata": {},
   "outputs": [],
   "source": [
    "class Similarity_Dataset_Iterator():\n",
    "    def __init__(self, data, labels, similarity):\n",
    "        self.data = data\n",
    "        self.labels = labels\n",
    "        self.matrix = similarity.get_matrix(data)\n",
    "        self.data_size = self.matrix.shape[0]\n",
    "        self.current_index = 0\n",
    "    def next_batch(self, n):\n",
    "        return (self.matrix.transpose(), self.labels)\n",
    "    def whole_dataset(self):\n",
    "        return (self.matrix.transpose(), self.labels)"
   ]
  },
  {
   "cell_type": "code",
   "execution_count": 6,
   "metadata": {},
   "outputs": [],
   "source": [
    "def read_iris_data(similarity):\n",
    "    with open('../Autoencoder_vs_Spectral_on_Iris/Iris_Dataset/iris.csv') as csvfile:        \n",
    "        csvreader = csv.reader(csvfile)\n",
    "        next(csvreader, None) # skip header\n",
    "        dataset = list(csvreader)\n",
    "    random.shuffle(dataset)\n",
    "    datatrain = dataset[:int(len(dataset) * 0.8)]\n",
    "    data = [data[:4] for data in datatrain]\n",
    "    labels = [data[4] for data in datatrain]   \n",
    "    return Similarity_Dataset_Iterator(data, labels, similarity)"
   ]
  },
  {
   "cell_type": "code",
   "execution_count": 7,
   "metadata": {},
   "outputs": [],
   "source": [
    "# Call Nearest_Neighbors_Similarity or Cosine_Similarity as similarity dataset.\n",
    "data_set = read_iris_data(Cosine_Similarity(Normalize=True))\n",
    "data_set_NN = read_iris_data(Nearest_Neighbors_Similarity(Normalize=True))"
   ]
  },
  {
   "cell_type": "code",
   "execution_count": 8,
   "metadata": {},
   "outputs": [],
   "source": [
    "n_input = 120 # number of input data.\n",
    "n_code = '16' # the number of output value or embedding data codes.\n",
    "# The autoencoder hidden layers\n",
    "n_encoder_hidden_1 = 128\n",
    "n_encoder_hidden_2 = 64\n",
    "n_encoder_hidden_3 = 32\n",
    "# Here we have low dimensional embedding to reconstruct the input.\n",
    "n_decoder_hidden_1 = 32\n",
    "n_decoder_hidden_2 = 64\n",
    "n_decoder_hidden_3 = 128"
   ]
  },
  {
   "cell_type": "code",
   "execution_count": 9,
   "metadata": {},
   "outputs": [],
   "source": [
    "def encoder(x, n_code, phase_train):    \n",
    "    with tf.variable_scope(\"encoder\"):        \n",
    "        with tf.variable_scope(\"hidden_1\"):\n",
    "            hidden_1 = layer(x, [n_input, n_encoder_hidden_1], [n_encoder_hidden_1], phase_train)\n",
    "        with tf.variable_scope(\"hidden_2\"):\n",
    "            hidden_2 = layer(hidden_1, [n_encoder_hidden_1, n_encoder_hidden_2], [n_encoder_hidden_2], phase_train)\n",
    "        with tf.variable_scope(\"hidden_3\"):\n",
    "            hidden_3 = layer(hidden_2, [n_encoder_hidden_2, n_encoder_hidden_3], [n_encoder_hidden_3], phase_train)\n",
    "        with tf.variable_scope(\"code\"):\n",
    "            code = layer(hidden_3, [n_encoder_hidden_3, n_code], [n_code], phase_train)\n",
    "    return code"
   ]
  },
  {
   "cell_type": "code",
   "execution_count": 10,
   "metadata": {},
   "outputs": [],
   "source": [
    "def decoder(code, n_code, phase_train):\n",
    "    with tf.variable_scope(\"decoder\"):\n",
    "        with tf.variable_scope(\"hidden_1\"):\n",
    "            hidden_1 = layer(code, [n_code, n_decoder_hidden_1], [n_decoder_hidden_1], phase_train)\n",
    "        with tf.variable_scope(\"hidden_2\"):\n",
    "            hidden_2 = layer(hidden_1, [n_decoder_hidden_1, n_decoder_hidden_2], [n_decoder_hidden_2], phase_train)\n",
    "        with tf.variable_scope(\"hidden_3\"):\n",
    "            hidden_3 = layer(hidden_2, [n_decoder_hidden_2, n_decoder_hidden_3], [n_decoder_hidden_3], phase_train)\n",
    "        with tf.variable_scope(\"output\"):\n",
    "            output = layer(hidden_3, [n_decoder_hidden_3, n_input], [n_input], phase_train)\n",
    "    return output"
   ]
  },
  {
   "cell_type": "code",
   "execution_count": 11,
   "metadata": {},
   "outputs": [],
   "source": [
    "def layer_batch_norm(x, n_out, phase_train):\n",
    "    beta_init = tf.constant_initializer(value=0.0, dtype=tf.float32)\n",
    "    gamma_init = tf.constant_initializer(value=1.0, dtype=tf.float32)\n",
    "    beta = tf.get_variable(\"beta\", [n_out], initializer=beta_init)\n",
    "    gamma = tf.get_variable(\"gamma\", [n_out], initializer=gamma_init)\n",
    "    batch_mean, batch_var = tf.nn.moments(x, [0], name='moments')\n",
    "    ema = tf.train.ExponentialMovingAverage(decay=0.9)\n",
    "    ema_apply_op = ema.apply([batch_mean, batch_var])\n",
    "    ema_mean, ema_var = ema.average(batch_mean), ema.average(batch_var)\n",
    "    def mean_var_with_update():\n",
    "        with tf.control_dependencies([ema_apply_op]):\n",
    "            return tf.identity(batch_mean), tf.identity(batch_var)\n",
    "    mean, var = control_flow_ops.cond(phase_train, mean_var_with_update, lambda: (ema_mean, ema_var))\n",
    "    reshaped_x = tf.reshape(x, [-1, 1, 1, n_out])\n",
    "    normed = tf.nn.batch_norm_with_global_normalization(reshaped_x, mean, var, beta, gamma, 1e-3, True)\n",
    "    return tf.reshape(normed, [-1, n_out])"
   ]
  },
  {
   "cell_type": "code",
   "execution_count": 12,
   "metadata": {},
   "outputs": [],
   "source": [
    "def layer(input, weight_shape, bias_shape, phase_train):\n",
    "    weight_init = tf.random_normal_initializer(stddev=(1.0 / weight_shape[0]) ** 0.5)\n",
    "    bias_init = tf.constant_initializer(value=0)\n",
    "    W = tf.get_variable(\"W\", weight_shape, initializer=weight_init)\n",
    "    b = tf.get_variable(\"b\", bias_shape, initializer=bias_init)\n",
    "    logits = tf.matmul(input, W) + b\n",
    "    return tf.nn.sigmoid(layer_batch_norm(logits, weight_shape[1], phase_train))"
   ]
  },
  {
   "cell_type": "code",
   "execution_count": 13,
   "metadata": {},
   "outputs": [],
   "source": [
    "def loss(output, x):\n",
    "    with tf.variable_scope(\"training\"):\n",
    "        l2 = tf.sqrt(tf.reduce_sum(tf.square(tf.subtract(output, x)), 1))\n",
    "        train_loss = tf.reduce_mean(l2)\n",
    "        train_summary_op = tf.summary.scalar(\"train_cost\", train_loss)\n",
    "        return train_loss, train_summary_op"
   ]
  },
  {
   "cell_type": "code",
   "execution_count": 14,
   "metadata": {},
   "outputs": [],
   "source": [
    "def training(cost, global_step):\n",
    "    optimizer = tf.train.AdamOptimizer(learning_rate=0.001, beta1=0.9, epsilon=1e-08, use_locking=False, name='Adam')\n",
    "    train_op = optimizer.minimize(cost, global_step=global_step)\n",
    "    return train_op"
   ]
  },
  {
   "cell_type": "code",
   "execution_count": 15,
   "metadata": {},
   "outputs": [],
   "source": [
    "def evaluate(output, x):\n",
    "    with tf.variable_scope(\"validation\"):\n",
    "        l2 = tf.sqrt(tf.reduce_sum(tf.square(tf.subtract(output, x, name=\"val_diff\")), 1))\n",
    "        val_loss = tf.reduce_mean(l2)\n",
    "        val_summary_op = tf.summary.scalar(\"val_cost\", val_loss)\n",
    "        return val_loss, val_summary_op"
   ]
  },
  {
   "cell_type": "code",
   "execution_count": 16,
   "metadata": {},
   "outputs": [],
   "source": [
    "# Parameters\n",
    "learning_rate = 0.01 # The learning rate, it should be a floating point value.\n",
    "training_epochs = 50 # The time priod of train on the model.\n",
    "showing_step = 10 # after 50 epochs, getting embedding data and run the KMeans on it. "
   ]
  },
  {
   "cell_type": "code",
   "execution_count": 17,
   "metadata": {},
   "outputs": [],
   "source": [
    "with tf.Graph().as_default():    \n",
    "    with tf.variable_scope(\"autoencoder_model\"):                \n",
    "        x = tf.placeholder(\"float\", [None, n_input])   \n",
    "        phase_train = tf.placeholder(tf.bool)\n",
    "        code = encoder(x, int(n_code), phase_train)\n",
    "        output = decoder(code, int(n_code), phase_train)\n",
    "        cost, train_summary_op = loss(output, x)\n",
    "        global_step = tf.Variable(0, name='global_step', trainable=False)\n",
    "        train_op = training(cost, global_step)\n",
    "        eval_op, val_summary_op = evaluate(output, x)\n",
    "        summary_op = tf.summary.merge_all()\n",
    "        sess = tf.Session()\n",
    "        init_op = tf.global_variables_initializer()\n",
    "        sess.run(init_op)"
   ]
  },
  {
   "cell_type": "code",
   "execution_count": 18,
   "metadata": {},
   "outputs": [
    {
     "name": "stderr",
     "output_type": "stream",
     "text": [
      "\r",
      "  0%|                                                                                           | 0/50 [00:00<?, ?it/s]"
     ]
    },
    {
     "name": "stdout",
     "output_type": "stream",
     "text": [
      "NMI Score for AE is: 0.85 and new cost is: 4.94 in 1 step. \n"
     ]
    },
    {
     "name": "stderr",
     "output_type": "stream",
     "text": [
      "\r",
      "  2%|█▋                                                                                 | 1/50 [00:00<00:31,  1.56it/s]"
     ]
    },
    {
     "name": "stdout",
     "output_type": "stream",
     "text": [
      "NMI Score for AE is: 0.87 and new cost is: 4.74 in 2 step. \n"
     ]
    },
    {
     "name": "stderr",
     "output_type": "stream",
     "text": [
      " 18%|██████████████▉                                                                    | 9/50 [00:01<00:05,  7.94it/s]"
     ]
    },
    {
     "name": "stdout",
     "output_type": "stream",
     "text": [
      "NMI Score for AE is: 0.88 and new cost is: 3.27 in 11 step. \n"
     ]
    },
    {
     "name": "stderr",
     "output_type": "stream",
     "text": [
      " 38%|███████████████████████████████▏                                                  | 19/50 [00:01<00:02, 11.15it/s]"
     ]
    },
    {
     "name": "stdout",
     "output_type": "stream",
     "text": [
      "NMI Score for AE is: 0.88 and new cost is: 2.54 in 21 step. \n"
     ]
    },
    {
     "name": "stderr",
     "output_type": "stream",
     "text": [
      " 58%|███████████████████████████████████████████████▌                                  | 29/50 [00:02<00:01, 12.82it/s]"
     ]
    },
    {
     "name": "stdout",
     "output_type": "stream",
     "text": [
      "NMI Score for AE is: 0.90 and new cost is: 2.29 in 31 step. \n"
     ]
    },
    {
     "name": "stderr",
     "output_type": "stream",
     "text": [
      " 78%|███████████████████████████████████████████████████████████████▉                  | 39/50 [00:02<00:00, 13.79it/s]"
     ]
    },
    {
     "name": "stdout",
     "output_type": "stream",
     "text": [
      "NMI Score for AE is: 0.88 and new cost is: 2.19 in 41 step. \n"
     ]
    },
    {
     "name": "stderr",
     "output_type": "stream",
     "text": [
      "100%|██████████████████████████████████████████████████████████████████████████████████| 50/50 [00:03<00:00, 14.37it/s]\n"
     ]
    }
   ],
   "source": [
    "# Training cycle\n",
    "results=[]\n",
    "loss_cost=[]\n",
    "steps=[]\n",
    "for epoch in tqdm(range(training_epochs)):\n",
    "    # Fit training using backpropagation.\n",
    "    _, new_cost, train_summary = sess.run([train_op, cost, train_summary_op],\n",
    "                                          feed_dict={x: data_set.next_batch(1)[0], phase_train: True})       \n",
    "    validation_loss, val_summary = sess.run([eval_op, val_summary_op],\n",
    "                                            feed_dict={x: data_set.next_batch(1)[0], phase_train: False})\n",
    "    ae_codes = sess.run(code, feed_dict={x: data_set.next_batch(1)[0], phase_train: True})\n",
    "    # Running K-Means on data.\n",
    "    centroids, _ = kmeans(ae_codes,3)\n",
    "    idx, _ = vq(ae_codes, centroids)\n",
    "    ae_nmi = normalized_mutual_info_score(data_set.next_batch(1)[1], idx)\n",
    "    results.append(ae_nmi)\n",
    "    steps.append(epoch+1)\n",
    "    loss_cost.append(new_cost)\n",
    "    if epoch % showing_step == 0 or epoch == 1:\n",
    "        print(\"NMI Score for AE is: {:0.2f} and new cost is: {:0.2f} in {:d} step. \".format(ae_nmi,new_cost, epoch+1))"
   ]
  },
  {
   "cell_type": "code",
   "execution_count": 19,
   "metadata": {
    "scrolled": false
   },
   "outputs": [
    {
     "data": {
      "text/plain": [
       "<matplotlib.legend.Legend at 0x1edb1f832b0>"
      ]
     },
     "execution_count": 19,
     "metadata": {},
     "output_type": "execute_result"
    }
   ],
   "source": [
    "plt.figure(figsize=(14,5))\n",
    "plt.subplot(1, 2, 1)\n",
    "plt.errorbar(steps, results, label='Autoencoder on Normalized Cosine Similarity', color='r')\n",
    "plt.ylabel('NMI')\n",
    "plt.grid()\n",
    "plt.title(('NMI of Autoencoder Clustring after {:d} steps.').format(training_epochs))\n",
    "plt.legend(loc='best')\n",
    "plt.subplot(1, 2, 2)\n",
    "plt.errorbar(steps, loss_cost, label='Autoencoder Cost Function', color='b')\n",
    "plt.grid()\n",
    "plt.title(('Cost Function Value after {:d} steps.').format(training_epochs))\n",
    "plt.legend(loc='best')"
   ]
  },
  {
   "cell_type": "code",
   "execution_count": 20,
   "metadata": {
    "scrolled": true
   },
   "outputs": [
    {
     "data": {
      "image/png": "[encoded data removed]",
      "text/plain": [
       "<matplotlib.figure.Figure at 0x1edae6574e0>"
      ]
     },
     "metadata": {},
     "output_type": "display_data"
    }
   ],
   "source": [
    "plt.show()"
   ]
  },
  {
   "cell_type": "code",
   "execution_count": 21,
   "metadata": {},
   "outputs": [],
   "source": [
    "def spectral_clustering(X, n_cluster):\n",
    "    D_ = np.matrix(np.diag(np.sum(X,0)))\n",
    "    D_ = D_**(-1)\n",
    "    L = np.dot(np.dot(D_, X),D_)\n",
    "    eigenvectors = np.linalg.eig(L)[1]\n",
    "    X = np.real(eigenvectors[:,0:n_cluster])\n",
    "    X = normalize(X,axis=1)\n",
    "    return k_means_(X,3), X"
   ]
  },
  {
   "cell_type": "code",
   "execution_count": 22,
   "metadata": {},
   "outputs": [],
   "source": [
    "def k_means_(X, n_cluster):\n",
    "    kmeans_centroids,_ =  kmeans(X,n_cluster)\n",
    "    kmeans_, _ = vq(X, kmeans_centroids)\n",
    "    return kmeans_"
   ]
  },
  {
   "cell_type": "code",
   "execution_count": 23,
   "metadata": {},
   "outputs": [
    {
     "name": "stdout",
     "output_type": "stream",
     "text": [
      "Spectral CS:    0.86\n",
      "Spectral NN:    0.40\n",
      "KMeans CS:      0.88\n",
      "KMeans NN:      0.37\n",
      "Autoencoder:    0.90\n"
     ]
    }
   ],
   "source": [
    "indx, spec_code= spectral_clustering(data_set.next_batch(1)[0],3)\n",
    "spectral_nmi = (normalized_mutual_info_score(data_set.next_batch(1)[1], indx))\n",
    "print((\"Spectral CS:    {:0.2f}\".format(spectral_nmi)))\n",
    "#------------------------------------------------------------------------------------------------------\n",
    "indx_NN, spec_code_NN= spectral_clustering(data_set_NN.next_batch(1)[0],3)\n",
    "spectral_nmi_NN = (normalized_mutual_info_score(data_set_NN.next_batch(1)[1], indx_NN))\n",
    "print((\"Spectral NN:    {:0.2f}\".format(spectral_nmi_NN)))\n",
    "#------------------------------------------------------------------------------------------------------\n",
    "k_means_indx = k_means_(data_set.next_batch(1)[0],3)\n",
    "k_means_nmi_ = (normalized_mutual_info_score(data_set.next_batch(1)[1], k_means_indx))\n",
    "print((\"KMeans CS:      {:0.2f}\".format(k_means_nmi_)))\n",
    "#------------------------------------------------------------------------------------------------------\n",
    "k_means_indx_NN = k_means_(data_set_NN.next_batch(1)[0],3)\n",
    "k_means_nmi_NN = (normalized_mutual_info_score(data_set_NN.next_batch(1)[1], k_means_indx_NN))\n",
    "print((\"KMeans NN:      {:0.2f}\".format(k_means_nmi_NN)))\n",
    "#------------------------------------------------------------------------------------------------------\n",
    "print(\"Autoencoder:    {:0.2f}\".format(ae_nmi))"
   ]
  },
  {
   "cell_type": "code",
   "execution_count": 24,
   "metadata": {},
   "outputs": [],
   "source": [
    "colors = [('r', '1'),('b', '2'),('g', '3')]\n",
    "plt.figure(figsize=(14, 10))\n",
    "for num in range(3):\n",
    "    plt.subplot(2,2,1)\n",
    "    plt.scatter([spec_code[:,0][i] for i in range(len(indx)) if indx[i] == num],\n",
    "                [spec_code[:,1][i] for i in range(len(indx)) if indx[i] == num],\n",
    "                99, label=str(num), color = colors[num][0], marker=colors[num][1])        \n",
    "    plt.title(\"Spectral Clustering with Cosine Similarity\")\n",
    "    plt.legend() \n",
    "    plt.subplot(2,2,2)\n",
    "    plt.scatter([spec_code_NN[:,0][i] for i in range(len(indx_NN)) if indx_NN[i] == num],\n",
    "                [spec_code_NN[:,1][i] for i in range(len(indx_NN)) if indx_NN[i] == num],\n",
    "                99, label=str(num), color = colors[num][0], marker=colors[num][1])        \n",
    "    plt.title(\"Spectral Clustering with Nearest Neighbors Similarity\")\n",
    "    plt.legend()\n",
    "    plt.subplot(2,2,3)\n",
    "    plt.scatter([ae_codes[:,0][i] for i in range(len(idx)) if idx[i] == num],\n",
    "                [ae_codes[:,1][i] for i in range(len(idx)) if idx[i] == num],\n",
    "                99, label=str(num), color = colors[num][0], marker=colors[num][1])        \n",
    "    plt.title(\"Autoencoder\")\n",
    "    plt.legend()"
   ]
  },
  {
   "cell_type": "code",
   "execution_count": 25,
   "metadata": {},
   "outputs": [
    {
     "data": {
      "image/png": "[encoded data removed]",
      "text/plain": [
       "<matplotlib.figure.Figure at 0x1edb1eba4a8>"
      ]
     },
     "metadata": {},
     "output_type": "display_data"
    }
   ],
   "source": [
    "plt.show()"
   ]
  },
  {
   "cell_type": "code",
   "execution_count": null,
   "metadata": {},
   "outputs": [],
   "source": []
  }
 ],
 "metadata": {
  "celltoolbar": "Raw Cell Format",
  "kernelspec": {
   "display_name": "Python 3",
   "language": "python",
   "name": "python3"
  },
  "language_info": {
   "codemirror_mode": {
    "name": "ipython",
    "version": 3
   },
   "file_extension": ".py",
   "mimetype": "text/x-python",
   "name": "python",
   "nbconvert_exporter": "python",
   "pygments_lexer": "ipython3",
   "version": "3.5.4"
  }
 },
 "nbformat": 4,
 "nbformat_minor": 1
}
