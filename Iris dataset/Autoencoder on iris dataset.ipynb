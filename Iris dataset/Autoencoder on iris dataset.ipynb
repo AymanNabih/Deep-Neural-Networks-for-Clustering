{
 "cells": [
  {
   "cell_type": "markdown",
   "metadata": {},
   "source": [
    "Author: Saman Paidar Nia"
   ]
  },
  {
   "cell_type": "markdown",
   "metadata": {},
   "source": [
    "All resources are listed at the bottom of the page."
   ]
  },
  {
   "cell_type": "code",
   "execution_count": 1,
   "metadata": {},
   "outputs": [],
   "source": [
    "# Get important libraries for this class.\n",
    "import tensorflow as tf\n",
    "import numpy as np\n",
    "import matplotlib.pyplot as plt\n",
    "import warnings\n",
    "import csv\n",
    "import random\n",
    "import math\n",
    "#--------------------------------------------------------\n",
    "from tensorflow.python.ops import control_flow_ops\n",
    "from IPython.display import clear_output\n",
    "from scipy.spatial.distance import squareform, pdist\n",
    "from sklearn.preprocessing import normalize\n",
    "from numpy import linalg as LA\n",
    "from scipy.cluster.vq import kmeans, vq\n",
    "from sklearn.metrics import normalized_mutual_info_score\n",
    "from math import sqrt"
   ]
  },
  {
   "cell_type": "code",
   "execution_count": 2,
   "metadata": {},
   "outputs": [],
   "source": [
    "def standardization(X):\n",
    "    return normalize(X, axis=0)"
   ]
  },
  {
   "cell_type": "code",
   "execution_count": 3,
   "metadata": {},
   "outputs": [],
   "source": [
    "def laplacian(A):\n",
    "    S = np.sum(A, 0)\n",
    "    D = np.diag(S)\n",
    "    D = LA.matrix_power(D, -1)\n",
    "    L = np.dot(D, A)\n",
    "    return L"
   ]
  },
  {
   "cell_type": "code",
   "execution_count": 4,
   "metadata": {},
   "outputs": [],
   "source": [
    "def normalization(V):\n",
    "    return (V - min(V)) / (max(V) - min(V))"
   ]
  },
  {
   "cell_type": "code",
   "execution_count": 5,
   "metadata": {},
   "outputs": [],
   "source": [
    "class Correlation_Similarity:\n",
    "    def get_matrix(self, Data):\n",
    "        X = standardization(Data)\n",
    "        X = pdist(X, 'correlation')\n",
    "        X = squareform(X)\n",
    "        L = laplacian(X)\n",
    "        Y = np.apply_along_axis(normalization, 1, L)\n",
    "        np.fill_diagonal(Y, 0.)\n",
    "        return Y"
   ]
  },
  {
   "cell_type": "code",
   "execution_count": 6,
   "metadata": {},
   "outputs": [],
   "source": [
    "class Cosine_Similarity:\n",
    "    def get_matrix(self, Data):\n",
    "        X = standardization(Data)\n",
    "        X = pdist(X, 'cosine')\n",
    "        X = squareform(X)\n",
    "        L = laplacian(X)\n",
    "        Y = np.apply_along_axis(normalization, 1, L)\n",
    "        np.fill_diagonal(Y, 0.)\n",
    "        return Y"
   ]
  },
  {
   "cell_type": "code",
   "execution_count": 7,
   "metadata": {},
   "outputs": [],
   "source": [
    "class Similarity_Dataset_Iterator():\n",
    "    def __init__(self, data, labels, similarity):\n",
    "        self.data = data\n",
    "        self.labels = labels\n",
    "        self.matrix = similarity.get_matrix(data)\n",
    "        self.data_size = self.matrix.shape[0]\n",
    "        self.current_index = 0\n",
    "    def next_batch(self, num):\n",
    "        data=self.matrix.transpose()\n",
    "        labels=self.labels\n",
    "        idx = np.arange(0 , len(data))\n",
    "        np.random.shuffle(idx)\n",
    "        idx = idx[:num]\n",
    "        data_shuffle = [data[ i] for i in idx]\n",
    "        labels_shuffle = [labels[ i] for i in idx]\n",
    "        return data_shuffle, labels_shuffle\n",
    "    def whole_dataset(self):\n",
    "        return (self.matrix.transpose(), self.labels)"
   ]
  },
  {
   "cell_type": "code",
   "execution_count": 8,
   "metadata": {},
   "outputs": [],
   "source": [
    "def read_iris_data(similarity):\n",
    "    with open('../Iris dataset/Iris_Dataset/iris.csv') as csvfile:        \n",
    "        csvreader = csv.reader(csvfile)\n",
    "        next(csvreader, None) # skip header\n",
    "        dataset = list(csvreader)\n",
    "    random.shuffle(dataset)\n",
    "    datatrain = dataset[:int(len(dataset))]\n",
    "    data = [data for data in datatrain]\n",
    "    labels = [data[4] for data in datatrain]   \n",
    "    return Similarity_Dataset_Iterator(data, labels, similarity)"
   ]
  },
  {
   "cell_type": "code",
   "execution_count": 9,
   "metadata": {},
   "outputs": [],
   "source": [
    "# Call Correlation_Similarity as similarity dataset.\n",
    "trainSet_correlation = read_iris_data(Correlation_Similarity())"
   ]
  },
  {
   "cell_type": "code",
   "execution_count": 10,
   "metadata": {},
   "outputs": [],
   "source": [
    "# Call Cosine_Similarity as similarity dataset.\n",
    "trainSet_cosine = read_iris_data(Cosine_Similarity())"
   ]
  },
  {
   "cell_type": "code",
   "execution_count": 11,
   "metadata": {},
   "outputs": [],
   "source": [
    "n_input = trainSet_correlation.data_size #--------- Number of input data.\n",
    "# Define the number of hidden layer. \n",
    "if n_input >= 256:\n",
    "    Nn = int(512)\n",
    "elif n_input >= 128:\n",
    "    Nn = int(256)"
   ]
  },
  {
   "cell_type": "code",
   "execution_count": 12,
   "metadata": {},
   "outputs": [],
   "source": [
    "n_hidden_1 = int(Nn/4) #-------------------- The autoencoder hidden layer 1.\n",
    "n_hidden_2 = int(n_hidden_1/2) #------------ The autoencoder hidden layer 2.\n",
    "n_code = str(2) #--------------------------- The number of output dimension value."
   ]
  },
  {
   "cell_type": "code",
   "execution_count": 13,
   "metadata": {},
   "outputs": [],
   "source": [
    "n_nodes = (n_input+n_hidden_1+n_hidden_2+int(n_code))"
   ]
  },
  {
   "cell_type": "code",
   "execution_count": 14,
   "metadata": {},
   "outputs": [
    {
     "name": "stdout",
     "output_type": "stream",
     "text": [
      "Layer 1:  150\n",
      "Layer 2:  64\n",
      "Layer 3:  32\n",
      "Layer 4:  2\n"
     ]
    }
   ],
   "source": [
    "print('Layer 1: ', n_input)\n",
    "print('Layer 2: ', n_hidden_1)\n",
    "print('Layer 3: ', n_hidden_2)\n",
    "print('Layer 4: ', int(n_code))"
   ]
  },
  {
   "cell_type": "code",
   "execution_count": 15,
   "metadata": {},
   "outputs": [],
   "source": [
    "def k_means_(X, n_clusters):\n",
    "    kmeans_centroids,_ =  kmeans(X,n_clusters)\n",
    "    kmeans_, _ = vq(X, kmeans_centroids)\n",
    "    return kmeans_"
   ]
  },
  {
   "cell_type": "code",
   "execution_count": 16,
   "metadata": {},
   "outputs": [],
   "source": [
    "def encoder(x, n_code, mode_train):    \n",
    "    with tf.variable_scope(\"encoder\"):        \n",
    "        with tf.variable_scope(\"hidden-layer-1\"):\n",
    "            hidden_1 = layer(x, [n_input, n_hidden_1], [n_hidden_1], mode_train)\n",
    "        with tf.variable_scope(\"hidden-layer-2\"):\n",
    "            hidden_2 = layer(hidden_1, [n_hidden_1, n_hidden_2], [n_hidden_2], mode_train)\n",
    "        with tf.variable_scope(\"embedded\"):\n",
    "            code = layer(hidden_2, [n_hidden_2, n_code], [n_code], mode_train)\n",
    "    return code"
   ]
  },
  {
   "cell_type": "code",
   "execution_count": 17,
   "metadata": {},
   "outputs": [],
   "source": [
    "def decoder(code, n_code, mode_train):\n",
    "    with tf.variable_scope(\"decoder\"):\n",
    "        with tf.variable_scope(\"hidden-layer-1\"):\n",
    "            hidden_1 = layer(code, [n_code, n_hidden_2], [n_hidden_2], mode_train)\n",
    "        with tf.variable_scope(\"hidden-layer-2\"):\n",
    "            hidden_2 = layer(hidden_1, [n_hidden_2, n_hidden_1], [n_hidden_1], mode_train)\n",
    "        with tf.variable_scope(\"reconstructed\"):\n",
    "            output = layer(hidden_2, [n_hidden_1, n_input], [n_input], mode_train)\n",
    "    return output"
   ]
  },
  {
   "cell_type": "code",
   "execution_count": 18,
   "metadata": {},
   "outputs": [],
   "source": [
    "def batch_norm(x, n_out, mode_train):\n",
    "    beta_initialize = tf.constant_initializer(value=0.0, dtype=tf.float32)\n",
    "    gamma_initialize = tf.constant_initializer(value=1.0, dtype=tf.float32)\n",
    "    beta = tf.get_variable(\"beta\", [n_out], initializer=beta_initialize)\n",
    "    gamma = tf.get_variable(\"gamma\", [n_out], initializer=gamma_initialize)\n",
    "    batch_mean, batch_var = tf.nn.moments(x, [0], name='moments')\n",
    "    ema = tf.train.ExponentialMovingAverage(decay=0.9)\n",
    "    ema_apply_op = ema.apply([batch_mean, batch_var])\n",
    "    ema_mean, ema_var = ema.average(batch_mean), ema.average(batch_var)\n",
    "    def mean_var():\n",
    "        with tf.control_dependencies([ema_apply_op]):\n",
    "            return tf.identity(batch_mean), tf.identity(batch_var)\n",
    "    mean, var = control_flow_ops.cond(mode_train, mean_var, lambda: (ema_mean, ema_var))\n",
    "    reshaped_x = tf.reshape(x, [-1, 1, 1, n_out])\n",
    "    normed = tf.nn.batch_norm_with_global_normalization(reshaped_x, mean, var, beta, gamma, 1e-3, True)\n",
    "    return tf.reshape(normed, [-1, n_out])"
   ]
  },
  {
   "cell_type": "code",
   "execution_count": 19,
   "metadata": {},
   "outputs": [],
   "source": [
    "def layer(input, weight_shape, bias_shape, mode_train):\n",
    "    value_initialize = (1.0 / weight_shape[0] ** 0.5)\n",
    "    weight_initialize = tf.random_normal_initializer(stddev = value_initialize, seed = None)\n",
    "    bias_initialize = tf.constant_initializer(value=0.0, dtype=tf.float32)\n",
    "    w = tf.get_variable(\"w\", weight_shape, initializer=weight_initialize)\n",
    "    b = tf.get_variable(\"b\", bias_shape, initializer=bias_initialize)\n",
    "    return tf.nn.sigmoid(batch_norm((tf.matmul(input, w) + b), weight_shape[1], mode_train))"
   ]
  },
  {
   "cell_type": "code",
   "execution_count": 20,
   "metadata": {},
   "outputs": [],
   "source": [
    "def loss(reconstructed, x):\n",
    "    with tf.variable_scope(\"train\"):\n",
    "        train_loss = tf.reduce_mean(tf.reduce_sum(tf.square(tf.subtract(reconstructed, x)), 1))\n",
    "        return train_loss"
   ]
  },
  {
   "cell_type": "code",
   "execution_count": 21,
   "metadata": {},
   "outputs": [],
   "source": [
    "def training(cost, learning_rate, beta1, beta2, global_step):\n",
    "    optimizer = tf.train.AdamOptimizer(learning_rate, beta1, beta2, epsilon=1e-08, use_locking=False, name='Adam')\n",
    "    train_op = optimizer.minimize(cost, global_step=global_step)\n",
    "    return train_op"
   ]
  },
  {
   "cell_type": "code",
   "execution_count": 22,
   "metadata": {
    "scrolled": false
   },
   "outputs": [],
   "source": [
    "# Parameters\n",
    "n_layers = 3 #----------------------------- Number of Neural Networks Layers.\n",
    "beta1 = 0.9 #------------------------------ The decay rate 1.  \n",
    "beta2 = 0.999 #---------------------------- The decay rate 2.\n",
    "learning_rate = (beta1/n_input) #---------- The learning rate.\n",
    "n_epoch = n_nodes #------------------------ The stop learning point.\n",
    "n_batch = math.ceil(sqrt(sqrt(n_input))) #- Number of selection data in per step.\n",
    "n_backpro = math.ceil(n_input/n_batch) #--- Number of Backpro in per epoch.\n",
    "n_clusters = 3 #--------------------------- Number of clusters.\n",
    "n_diplay = math.ceil(n_epoch/n_layers) #--- Number of getting code and runnig the K-Means."
   ]
  },
  {
   "cell_type": "code",
   "execution_count": 23,
   "metadata": {},
   "outputs": [],
   "source": [
    "data_cor, labels_cor = trainSet_correlation.whole_dataset() #-- Allocation of data and labels\n",
    "data_cos, labels_cos = trainSet_cosine.whole_dataset() #------- Allocation of data and labels"
   ]
  },
  {
   "cell_type": "code",
   "execution_count": 24,
   "metadata": {},
   "outputs": [],
   "source": [
    "results_cos=[] #--------------------------- A list to keep all NMI scores.\n",
    "loss_cost_cos=[] #------------------------- A list to keep all training evaluations.\n",
    "steps_cos=[] #----------------------------- A list to keep all steps."
   ]
  },
  {
   "cell_type": "code",
   "execution_count": 25,
   "metadata": {
    "scrolled": true
   },
   "outputs": [],
   "source": [
    "with tf.Graph().as_default():    \n",
    "    with tf.variable_scope(\"autoencoder_architecture\"):\n",
    "        x = tf.placeholder(\"float\", [None, n_input])   \n",
    "        mode_train = tf.placeholder(tf.bool)\n",
    "        code = encoder(x, int(n_code), mode_train)\n",
    "        reconstructed = decoder(code, int(n_code), mode_train)\n",
    "        cost = loss(reconstructed, x)\n",
    "        global_step = tf.Variable(0, name='global_step', trainable=False)\n",
    "        train_optimizer = training(cost, learning_rate, beta1, beta2, global_step)\n",
    "        sess = tf.Session()\n",
    "        init_op = tf.global_variables_initializer()\n",
    "        sess.run(init_op)"
   ]
  },
  {
   "cell_type": "code",
   "execution_count": 26,
   "metadata": {},
   "outputs": [
    {
     "name": "stdout",
     "output_type": "stream",
     "text": [
      "NMI Score for AE is: 97.02 and new cost is: 0.60 in 83 step. \n",
      "NMI Score for AE is: 100.00 and new cost is: 3.40 in 166 step. \n",
      "NMI Score for AE is: 100.00 and new cost is: 0.64 in 248 step. \n"
     ]
    }
   ],
   "source": [
    "# Training cycle\n",
    "epoch = 0\n",
    "while epoch == 0 or epoch < n_epoch:\n",
    "    # Fit training with Backpropagation using batch data.\n",
    "    for i in range(n_backpro):\n",
    "        miniData, _ = trainSet_cosine.next_batch(n_batch)\n",
    "        _, new_cost = sess.run([train_optimizer,cost], feed_dict={x: miniData,\n",
    "                                                                  mode_train: True})       \n",
    "    #------------------------- End of the Optimization ------------------------------\n",
    "    epoch += 1\n",
    "    # Save the results after per 10 epochs.    \n",
    "    if epoch % n_diplay == 0 or epoch == n_epoch:\n",
    "        # Getting embedded codes and running K-Means on them.\n",
    "        ae_codes_cos = sess.run(code, feed_dict={x: data_cos, mode_train: False})        \n",
    "        idx_cos = k_means_(ae_codes_cos, n_clusters)\n",
    "        ae_nmi_cos = normalized_mutual_info_score(labels_cos, idx_cos)\n",
    "        ae_nmi_cos = ae_nmi_cos*100\n",
    "        results_cos.append(ae_nmi_cos)    \n",
    "        steps_cos.append(epoch)\n",
    "        loss_cost_cos.append(new_cost)    \n",
    "        print(\"NMI Score for AE is: {:0.2f} and new cost is: {:0.2f} in {:d} step. \"\n",
    "              .format(ae_nmi_cos, new_cost, epoch))"
   ]
  },
  {
   "cell_type": "code",
   "execution_count": 27,
   "metadata": {},
   "outputs": [],
   "source": [
    "results_cor=[] #--------------------------- A list to keep all NMI scores.\n",
    "loss_cost_cor=[] #------------------------- A list to keep all training evaluations.\n",
    "steps_cor=[] #----------------------------- A list to keep all steps."
   ]
  },
  {
   "cell_type": "code",
   "execution_count": 28,
   "metadata": {},
   "outputs": [],
   "source": [
    "with tf.Graph().as_default():    \n",
    "    with tf.variable_scope(\"autoencoder_architecture\"):\n",
    "        x = tf.placeholder(\"float\", [None, n_input])   \n",
    "        mode_train = tf.placeholder(tf.bool)\n",
    "        code = encoder(x, int(n_code), mode_train)\n",
    "        reconstructed = decoder(code, int(n_code), mode_train)\n",
    "        cost = loss(reconstructed, x)\n",
    "        global_step = tf.Variable(0, name='global_step', trainable=False)\n",
    "        train_optimizer = training(cost, learning_rate, beta1, beta2, global_step)\n",
    "        sess = tf.Session()\n",
    "        init_op = tf.global_variables_initializer()\n",
    "        sess.run(init_op)"
   ]
  },
  {
   "cell_type": "code",
   "execution_count": 29,
   "metadata": {},
   "outputs": [
    {
     "name": "stdout",
     "output_type": "stream",
     "text": [
      "NMI Score for AE is: 91.44 and new cost is: 1.81 in 83 step. \n",
      "NMI Score for AE is: 90.09 and new cost is: 0.89 in 166 step. \n",
      "NMI Score for AE is: 87.01 and new cost is: 1.73 in 248 step. \n"
     ]
    }
   ],
   "source": [
    "# Training cycle\n",
    "epoch = 0\n",
    "while epoch == 0 or epoch < n_epoch:\n",
    "    # Fit training with Backpropagation using batch data.\n",
    "    for i in range(n_backpro):\n",
    "        miniData, _ = trainSet_correlation.next_batch(n_batch)\n",
    "        _, new_cost = sess.run([train_optimizer,cost], feed_dict={x: miniData,\n",
    "                                                                  mode_train:True})       \n",
    "    #------------------------- End of the Optimization ------------------------------\n",
    "    epoch += 1\n",
    "    # Save the results after per 10 epochs.    \n",
    "    if epoch % n_diplay == 0 or epoch == n_epoch:\n",
    "        # Getting embedded codes and running K-Means on them.\n",
    "        ae_codes_cor = sess.run(code, feed_dict={x: data_cor, mode_train: False})        \n",
    "        idx_cor = k_means_(ae_codes_cor, n_clusters)\n",
    "        ae_nmi_cor = normalized_mutual_info_score(labels_cor, idx_cor)\n",
    "        ae_nmi_cor = ae_nmi_cor*100\n",
    "        results_cor.append(ae_nmi_cor)    \n",
    "        steps_cor.append(epoch)\n",
    "        loss_cost_cor.append(new_cost)    \n",
    "        print(\"NMI Score for AE is: {:0.2f} and new cost is: {:0.2f} in {:d} step. \"\n",
    "              .format(ae_nmi_cor, new_cost, epoch))"
   ]
  },
  {
   "cell_type": "code",
   "execution_count": 30,
   "metadata": {},
   "outputs": [
    {
     "data": {
      "image/png": "[encoded data removed]",
      "text/plain": [
       "<matplotlib.figure.Figure at 0x15a820cc048>"
      ]
     },
     "metadata": {},
     "output_type": "display_data"
    }
   ],
   "source": [
    "warnings.filterwarnings('ignore')\n",
    "plt.figure(figsize=(12,3.5))\n",
    "plt.subplot(1,2,1)\n",
    "plt.ylim(-0.5, 100)\n",
    "plt.plot(steps_cor, loss_cost_cor, label='Cost Trianing for Correlation Distance ', color='#000080', marker='o')\n",
    "plt.plot(steps_cos, loss_cost_cos, label='Cost Trianing for Cosine Distance ', color='#E3CF57', marker='s')\n",
    "plt.xlabel('Number of Epochs.')\n",
    "plt.ylabel('Cost')\n",
    "plt.grid()\n",
    "plt.title('Cost Function Trianing')\n",
    "plt.legend(loc='best')\n",
    "plt.subplot(1,2,2)\n",
    "plt.ylim(30, 109)\n",
    "plt.plot(steps_cor, results_cor, label='AE Normalized Correlation Distance ', color='#000080', marker='o')\n",
    "plt.plot(steps_cos, results_cos, label='AE Normalized Cosine Distance ', color='#E3CF57', marker='s')\n",
    "plt.xlabel('Number of Epochs.')\n",
    "plt.ylabel('NMI')\n",
    "plt.grid()\n",
    "plt.title(('NMI of AE Correlation is {:0.2f} \\n and AE Cosine is {:0.2f}').format(ae_nmi_cor, ae_nmi_cos))\n",
    "plt.legend(loc='best')\n",
    "plt.show()"
   ]
  },
  {
   "cell_type": "code",
   "execution_count": 31,
   "metadata": {},
   "outputs": [],
   "source": [
    "def spectral_clustering(L, n_clusters):\n",
    "    eigenvectors = np.linalg.eig(L)[1]\n",
    "    X = np.real(eigenvectors[:,0: n_clusters])\n",
    "    X = normalize(X, norm='l2', axis=1)\n",
    "    return k_means_(X, n_clusters)"
   ]
  },
  {
   "cell_type": "code",
   "execution_count": 32,
   "metadata": {},
   "outputs": [],
   "source": [
    "spec_cluster_cos = spectral_clustering(data_cos, n_clusters)\n",
    "spec_nmi_cos = normalized_mutual_info_score(labels_cos, spec_cluster_cos)"
   ]
  },
  {
   "cell_type": "code",
   "execution_count": 33,
   "metadata": {},
   "outputs": [],
   "source": [
    "k_means_indx_cos = k_means_(data_cos, n_clusters)\n",
    "k_means_nmi_cos = (normalized_mutual_info_score(labels_cos, k_means_indx_cos))"
   ]
  },
  {
   "cell_type": "code",
   "execution_count": 34,
   "metadata": {},
   "outputs": [],
   "source": [
    "spec_cluster_cor = spectral_clustering(data_cor, n_clusters)\n",
    "spec_nmi_cor = normalized_mutual_info_score(labels_cor, spec_cluster_cor)"
   ]
  },
  {
   "cell_type": "code",
   "execution_count": 35,
   "metadata": {},
   "outputs": [],
   "source": [
    "k_means_indx_cor = k_means_(data_cor, n_clusters)\n",
    "k_means_nmi_cor = (normalized_mutual_info_score(labels_cor, k_means_indx_cor))"
   ]
  },
  {
   "cell_type": "code",
   "execution_count": 36,
   "metadata": {},
   "outputs": [
    {
     "name": "stdout",
     "output_type": "stream",
     "text": [
      "KMeans on Cosine: ---------------------------- 100.00\n",
      "KMeans on Correlation: ----------------------- 93.06\n",
      "Spectral Clustering on Cosine: --------------- 100.00\n",
      "Spectral Clustering on Correlation: ---------- 89.97\n",
      "Autoencoder Clustering on Cosine: ------------ 100.00\n",
      "Autoencoder Clustering on Correlation: ------- 87.01\n"
     ]
    }
   ],
   "source": [
    "print(\"KMeans on Cosine: ---------------------------- {:0.2f}\".format(k_means_nmi_cos*100))\n",
    "print(\"KMeans on Correlation: ----------------------- {:0.2f}\".format(k_means_nmi_cor*100))\n",
    "print(\"Spectral Clustering on Cosine: --------------- {:0.2f}\".format(spec_nmi_cos*100))\n",
    "print(\"Spectral Clustering on Correlation: ---------- {:0.2f}\".format(spec_nmi_cor*100))\n",
    "print(\"Autoencoder Clustering on Cosine: ------------ {:0.2f}\".format(ae_nmi_cos))\n",
    "print(\"Autoencoder Clustering on Correlation: ------- {:0.2f}\".format(ae_nmi_cor))"
   ]
  },
  {
   "cell_type": "code",
   "execution_count": 37,
   "metadata": {},
   "outputs": [],
   "source": [
    "origin_label_cos = np.array(trainSet_cosine.whole_dataset()[1]).astype(int)\n",
    "origin_label_cor = np.array(trainSet_correlation.whole_dataset()[1]).astype(int)"
   ]
  },
  {
   "cell_type": "code",
   "execution_count": 38,
   "metadata": {},
   "outputs": [
    {
     "data": {
      "image/png": "[encoded data removed]",
      "text/plain": [
       "<matplotlib.figure.Figure at 0x15a8222ef28>"
      ]
     },
     "metadata": {},
     "output_type": "display_data"
    }
   ],
   "source": [
    "colors = [('c', '<'),('g', '>'),('m','^')]\n",
    "plt.figure(figsize=(14, 5))\n",
    "for num in range(3):\n",
    "    plt.subplot(1,2,1)\n",
    "    plt.scatter([ae_codes_cor[:,0][i] for i in range(len(idx_cor)) if idx_cor[i] == num],\n",
    "                [ae_codes_cor[:,1][i] for i in range(len(idx_cor)) if idx_cor[i] == num],\n",
    "                60, label=str(num+1), color = colors[num][0], marker=colors[num][1])\n",
    "    plt.title(('NMI of AE on Correlation is {:0.2f}').format(ae_nmi_cor))\n",
    "    plt.xlabel('Runs K-Means on the representation by AE in 2 dimensions.')\n",
    "    plt.legend()\n",
    "    plt.subplot(1,2,2)\n",
    "    plt.scatter([ae_codes_cos[:,0][i] for i in range(len(idx_cos)) if idx_cos[i] == num],\n",
    "                [ae_codes_cos[:,1][i] for i in range(len(idx_cos)) if idx_cos[i] == num],\n",
    "                60, label=str(num+1), color = colors[num][0], marker=colors[num][1])\n",
    "    plt.title(('NMI of AE on Cosine is {:0.2f}').format(ae_nmi_cos))\n",
    "    plt.xlabel('Runs K-Means on the representation by AE in 2 dimensions.')\n",
    "    plt.legend()\n",
    "plt.show()"
   ]
  },
  {
   "cell_type": "code",
   "execution_count": 39,
   "metadata": {},
   "outputs": [
    {
     "data": {
      "image/png": "[encoded data removed]",
      "text/plain": [
       "<matplotlib.figure.Figure at 0x15a822c5128>"
      ]
     },
     "metadata": {},
     "output_type": "display_data"
    }
   ],
   "source": [
    "colors = [('r', '<'),('b', '>'),('y','^')]\n",
    "plt.figure(figsize=(14, 5))\n",
    "for num in range(3):\n",
    "    plt.subplot(1,2,1)\n",
    "    plt.scatter([ae_codes_cor[:,0][i] for i in range(len(idx_cor)) if idx_cor[i] == num],\n",
    "                [ae_codes_cor[:,1][i] for i in range(len(idx_cor)) if idx_cor[i] == num],\n",
    "                99, label=str(num+1), color = colors[num][0], marker=colors[num][1])\n",
    "    plt.title(('NMI of AE on Correlation is {:0.2f}').format(ae_nmi_cor))\n",
    "    plt.xlabel('Runs K-Means on the representation by AE in 2 dimensions.')\n",
    "    plt.legend()\n",
    "    plt.subplot(1,2,2)\n",
    "    plt.scatter([ae_codes_cos[:,0][i] for i in range(len(idx_cos)) if idx_cos[i] == num],\n",
    "                [ae_codes_cos[:,1][i] for i in range(len(idx_cos)) if idx_cos[i] == num],\n",
    "                99, label=str(num+1), color = colors[num][0], marker=colors[num][1])\n",
    "    plt.title(('NMI of AE on Cosine is {:0.2f}').format(ae_nmi_cos))\n",
    "    plt.xlabel('Runs K-Means on the representation by AE in 2 dimensions.')\n",
    "    plt.legend()\n",
    "plt.show()"
   ]
  },
  {
   "cell_type": "markdown",
   "metadata": {},
   "source": [
    "____________________________________________________________________________________________________________________________"
   ]
  },
  {
   "cell_type": "markdown",
   "metadata": {},
   "source": [
    "____________________________________________________________________________________________________________________________"
   ]
  },
  {
   "cell_type": "markdown",
   "metadata": {},
   "source": [
    "Refrences:\n",
    "\n",
    "SciPy (the library) Jones E, Oliphant E, Peterson P, et al. SciPy: Open Source Scientific Tools for Python, 2001-, http://www.scipy.org/ [Online; accessed 2018-02-20]. Here’s an example of a BibTeX entry:\n",
    "\n",
    "@Misc{, author = {Eric Jones and Travis Oliphant and Pearu Peterson and others}, title = {{SciPy}: Open source scientific tools for {Python}}, year = {2001--}, url = \"http://www.scipy.org/\", note = {[Online; accessed\n",
    "\n",
    "NumPy & SciPy:\n",
    "\n",
    "Stéfan van der Walt, S. Chris Colbert and Gaël Varoquaux. The NumPy Array: A Structure for Efficient Numerical Computation, Computing in Science & Engineering, 13, 22-30 (2011), DOI:10.1109/MCSE.2011.37 (publisher link)\n",
    "\n",
    "IPython:\n",
    "\n",
    "Fernando Pérez and Brian E. Granger. IPython: A System for Interactive Scientific Computing, Computing in Science & Engineering, 9, 21-29 (2007), DOI:10.1109/MCSE.2007.53 (publisher link)\n",
    "\n",
    "Matplotlib:\n",
    "\n",
    "John D. Hunter. Matplotlib: A 2D Graphics Environment, Computing in Science & Engineering, 9, 90-95 (2007), DOI:10.1109/MCSE.2007.55 (publisher link)\n",
    "\n",
    "Scikit-learn:\n",
    "\n",
    "Fabian Pedregosa, Gaël Varoquaux, Alexandre Gramfort, Vincent Michel, Bertrand Thirion, Olivier Grisel, Mathieu Blondel, Peter Prettenhofer, Ron Weiss, Vincent Dubourg, Jake Vanderplas, Alexandre Passos, David Cournapeau, Matthieu Brucher, Matthieu Perrot, Édouard Duchesnay. Scikit-learn: Machine Learning in Python, Journal of Machine Learning Research, 12, 2825-2830 (2011) (publisher link)\n",
    "\n",
    "TensorFlow:\n",
    "\n",
    "@misc{tensorflow2015-whitepaper, title={ {TensorFlow}: Large-Scale Machine Learning on Heterogeneous Systems}, url={https://www.tensorflow.org/}, note={Software available from tensorflow.org},\n",
    "\n",
    "Jupyter Notebooks:\n",
    "\n",
    "@conference{Kluyver:2016aa, Author = {Thomas Kluyver and Benjamin Ragan-Kelley and Fernando P{\\'e}rez and Brian Granger and Matthias Bussonnier and Jonathan Frederic and Kyle Kelley and Jessica Hamrick and Jason Grout and Sylvain Corlay and Paul Ivanov and Dami{\\'a}n Avila and Safia Abdalla and Carol Willing}, Booktitle = {Positioning and Power in Academic Publishing: Players, Agents and Agendas}, Editor = {F. Loizides and B. Schmidt}, Organization = {IOS Press}, Pages = {87 - 90}, Title = {Jupyter Notebooks -- a publishing format for reproducible computational workflows}, Year = {2016}}"
   ]
  }
 ],
 "metadata": {
  "celltoolbar": "Raw Cell Format",
  "kernelspec": {
   "display_name": "Python 3",
   "language": "python",
   "name": "python3"
  },
  "language_info": {
   "codemirror_mode": {
    "name": "ipython",
    "version": 3
   },
   "file_extension": ".py",
   "mimetype": "text/x-python",
   "name": "python",
   "nbconvert_exporter": "python",
   "pygments_lexer": "ipython3",
   "version": "3.5.4"
  }
 },
 "nbformat": 4,
 "nbformat_minor": 1
}
