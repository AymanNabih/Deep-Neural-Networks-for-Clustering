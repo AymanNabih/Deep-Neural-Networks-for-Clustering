{
 "cells": [
  {
   "cell_type": "markdown",
   "metadata": {},
   "source": [
    "Author: Saman Paidar Nia"
   ]
  },
  {
   "cell_type": "code",
   "execution_count": 1,
   "metadata": {},
   "outputs": [],
   "source": [
    "# Get important libraries for this class.\n",
    "import tensorflow as tf\n",
    "import numpy as np\n",
    "import matplotlib.pyplot as plt\n",
    "import warnings\n",
    "import csv\n",
    "import random\n",
    "import math\n",
    "#--------------------------------------------------------\n",
    "from tensorflow.python.ops import control_flow_ops\n",
    "from IPython.display import clear_output\n",
    "from scipy.spatial.distance import squareform, pdist\n",
    "from sklearn.preprocessing import normalize\n",
    "from numpy import linalg as LA\n",
    "from scipy.cluster.vq import kmeans, vq\n",
    "from sklearn.metrics import normalized_mutual_info_score\n",
    "from math import sqrt"
   ]
  },
  {
   "cell_type": "code",
   "execution_count": 2,
   "metadata": {},
   "outputs": [],
   "source": [
    "class Similarity_func:\n",
    "    def sig_normalize(self, X):\n",
    "        return (X - min(X)) / (max(X) - min(X))"
   ]
  },
  {
   "cell_type": "code",
   "execution_count": 3,
   "metadata": {},
   "outputs": [],
   "source": [
    "class Cosine_Similarity(Similarity_func):\n",
    "    def get_matrix(self, X):\n",
    "        X = normalize(X, axis=0)\n",
    "        x = squareform(pdist(X, 'cosine'))\n",
    "        x = np.dot(LA.matrix_power(np.diag(np.sum(x, 0)), -1), x)\n",
    "        x = np.apply_along_axis(self.sig_normalize, 1, x)\n",
    "        np.fill_diagonal(x, 0.)\n",
    "        return x"
   ]
  },
  {
   "cell_type": "code",
   "execution_count": 4,
   "metadata": {},
   "outputs": [],
   "source": [
    "class Correlation_Similarity(Similarity_func):\n",
    "    def get_matrix(self, X):\n",
    "        X = normalize(X, axis=0)\n",
    "        x = squareform(pdist(X, 'correlation'))\n",
    "        x = np.dot(LA.matrix_power(np.diag(np.sum(x, 0)),-1), x)\n",
    "        x = np.apply_along_axis(self.sig_normalize,1, x)\n",
    "        np.fill_diagonal(x, 0.)\n",
    "        return x"
   ]
  },
  {
   "cell_type": "code",
   "execution_count": 5,
   "metadata": {},
   "outputs": [],
   "source": [
    "class Similarity_Dataset_Iterator():\n",
    "    def __init__(self, data, labels, similarity):\n",
    "        self.data = data\n",
    "        self.labels = labels\n",
    "        self.matrix = similarity.get_matrix(data)\n",
    "        self.data_size = self.matrix.shape[0]\n",
    "        self.current_index = 0\n",
    "    def next_batch(self, num):\n",
    "        data=self.matrix.transpose()\n",
    "        labels=self.labels\n",
    "        idx = np.arange(0 , len(data))\n",
    "        np.random.shuffle(idx)\n",
    "        idx = idx[:num]\n",
    "        data_shuffle = [data[ i] for i in idx]\n",
    "        labels_shuffle = [labels[ i] for i in idx]\n",
    "        return data_shuffle, labels_shuffle\n",
    "    def whole_dataset(self):\n",
    "        return (self.matrix.transpose(), self.labels)"
   ]
  },
  {
   "cell_type": "code",
   "execution_count": 6,
   "metadata": {},
   "outputs": [],
   "source": [
    "def read_iris_data(similarity):\n",
    "    with open('../Autoencoder on iris dataset/Iris_Dataset/iris.csv') as csvfile:        \n",
    "        csvreader = csv.reader(csvfile)\n",
    "        next(csvreader, None) # skip header\n",
    "        dataset = list(csvreader)\n",
    "    random.shuffle(dataset)\n",
    "    datatrain = dataset[:int(len(dataset))]\n",
    "    data = [data for data in datatrain]\n",
    "    labels = [data[4] for data in datatrain]   \n",
    "    return Similarity_Dataset_Iterator(data, labels, similarity)"
   ]
  },
  {
   "cell_type": "code",
   "execution_count": 7,
   "metadata": {},
   "outputs": [],
   "source": [
    "# Call Correlation_Similarity as similarity dataset.\n",
    "trainSet_correlation = read_iris_data(Correlation_Similarity())"
   ]
  },
  {
   "cell_type": "code",
   "execution_count": 8,
   "metadata": {},
   "outputs": [],
   "source": [
    "# Call Cosine_Similarity as similarity dataset.\n",
    "trainSet_cosine = read_iris_data(Cosine_Similarity())"
   ]
  },
  {
   "cell_type": "code",
   "execution_count": 9,
   "metadata": {},
   "outputs": [],
   "source": [
    "n_input = trainSet_correlation.data_size #--------- Number of input data.\n",
    "# Define the number of hidden layer. \n",
    "if n_input >= 256:\n",
    "    Nn = int(512)\n",
    "elif n_input >= 128:\n",
    "    Nn = int(256)"
   ]
  },
  {
   "cell_type": "code",
   "execution_count": 10,
   "metadata": {},
   "outputs": [],
   "source": [
    "n_hidden_1 = int(Nn/2) #-------------------- The autoencoder hidden layer 1.\n",
    "n_code = str(int(n_hidden_1/2)) #----------- The number of output dimension value."
   ]
  },
  {
   "cell_type": "code",
   "execution_count": 11,
   "metadata": {},
   "outputs": [],
   "source": [
    "n_nodes = (n_input+n_hidden_1+int(n_code))"
   ]
  },
  {
   "cell_type": "code",
   "execution_count": 12,
   "metadata": {},
   "outputs": [],
   "source": [
    "def k_means_(X, n_cluster):\n",
    "    kmeans_centroids,_ =  kmeans(X,n_cluster)\n",
    "    kmeans_, _ = vq(X, kmeans_centroids)\n",
    "    return kmeans_"
   ]
  },
  {
   "cell_type": "code",
   "execution_count": 13,
   "metadata": {},
   "outputs": [],
   "source": [
    "def spectral_clustering(X, n_cluster):\n",
    "    D_ = np.matrix(np.diag(np.sum(X,0)))\n",
    "    D_ = D_**(-1)\n",
    "    L = np.dot(np.dot(D_, X),D_)\n",
    "    eigenvectors = np.linalg.eig(L)[1]\n",
    "    X = np.real(eigenvectors[:,0:n_cluster])\n",
    "    X = normalize(X, norm='l2', axis=0)\n",
    "    return k_means_(X, n_cluster)"
   ]
  },
  {
   "cell_type": "code",
   "execution_count": 14,
   "metadata": {},
   "outputs": [],
   "source": [
    "def encoder(x, n_code, phase_train):    \n",
    "    with tf.variable_scope(\"encoder\"):        \n",
    "        with tf.variable_scope(\"hidden_1\"):\n",
    "            hidden_1 = layer(x, [n_input, n_hidden_1], [n_hidden_1], phase_train)              \n",
    "        with tf.variable_scope(\"code\"):\n",
    "            code = layer(hidden_1, [n_hidden_1, n_code], [n_code], phase_train)\n",
    "    return code"
   ]
  },
  {
   "cell_type": "code",
   "execution_count": 15,
   "metadata": {},
   "outputs": [],
   "source": [
    "def decoder(code, n_code, phase_train):\n",
    "    with tf.variable_scope(\"decoder\"):\n",
    "        with tf.variable_scope(\"hidden_1\"):\n",
    "            hidden_1 = layer(code, [n_code, n_hidden_1], [n_hidden_1], phase_train)        \n",
    "        with tf.variable_scope(\"output\"):\n",
    "            output = layer(hidden_1, [n_hidden_1, n_input], [n_input], phase_train)\n",
    "    return output"
   ]
  },
  {
   "cell_type": "code",
   "execution_count": 16,
   "metadata": {},
   "outputs": [],
   "source": [
    "def layer_batch_norm(x, n_out, phase_train):\n",
    "    beta_init = tf.constant_initializer(value=0.0, dtype=tf.float32)\n",
    "    gamma_init = tf.constant_initializer(value=1.0, dtype=tf.float32)\n",
    "    beta = tf.get_variable(\"beta\", [n_out], initializer=beta_init)\n",
    "    gamma = tf.get_variable(\"gamma\", [n_out], initializer=gamma_init)\n",
    "    batch_mean, batch_var = tf.nn.moments(x, [0], name='moments')\n",
    "    ema = tf.train.ExponentialMovingAverage(decay=0.9)\n",
    "    ema_apply_op = ema.apply([batch_mean, batch_var])\n",
    "    ema_mean, ema_var = ema.average(batch_mean), ema.average(batch_var)\n",
    "    def mean_var_with_update():\n",
    "        with tf.control_dependencies([ema_apply_op]):\n",
    "            return tf.identity(batch_mean), tf.identity(batch_var)\n",
    "    mean, var = control_flow_ops.cond(phase_train, mean_var_with_update, lambda: (ema_mean, ema_var))\n",
    "    reshaped_x = tf.reshape(x, [-1, 1, 1, n_out])\n",
    "    normed = tf.nn.batch_norm_with_global_normalization(reshaped_x, mean, var, beta, gamma, 1e-3, True)\n",
    "    return tf.reshape(normed, [-1, n_out])"
   ]
  },
  {
   "cell_type": "code",
   "execution_count": 17,
   "metadata": {},
   "outputs": [],
   "source": [
    "def layer(input, weight_shape, bias_shape, phase_train):\n",
    "    weight_init = tf.random_normal_initializer(stddev=(1.0 / weight_shape[0]) ** 0.5)\n",
    "    bias_init = tf.constant_initializer(value=0)\n",
    "    W = tf.get_variable(\"W\", weight_shape, initializer=weight_init)\n",
    "    b = tf.get_variable(\"b\", bias_shape, initializer=bias_init)\n",
    "    logits = tf.matmul(input, W) + b\n",
    "    return tf.nn.sigmoid(layer_batch_norm(logits, weight_shape[1], phase_train))"
   ]
  },
  {
   "cell_type": "code",
   "execution_count": 18,
   "metadata": {},
   "outputs": [],
   "source": [
    "def loss(output, x):\n",
    "    with tf.variable_scope(\"training\"):\n",
    "        train_loss = tf.reduce_mean(tf.reduce_sum(tf.square(tf.subtract(output, x)), 1))\n",
    "        return train_loss"
   ]
  },
  {
   "cell_type": "code",
   "execution_count": 19,
   "metadata": {},
   "outputs": [],
   "source": [
    "def training(cost, learning_rate, beta1, beta2, global_step):\n",
    "    optimizer = tf.train.AdamOptimizer(learning_rate, beta1, beta2, epsilon=1e-08, use_locking=False, name='Adam')\n",
    "    train_op = optimizer.minimize(cost, global_step=global_step)\n",
    "    return train_op"
   ]
  },
  {
   "cell_type": "code",
   "execution_count": 20,
   "metadata": {
    "scrolled": false
   },
   "outputs": [],
   "source": [
    "# Parameters\n",
    "n_layers = 3 #----------------------------- Number of Neural Networks Layers.\n",
    "beta1 = 0.9 #------------------------------ The decay rate 1.  \n",
    "beta2 = 0.999 #---------------------------- The decay rate 2.\n",
    "learning_rate = (beta1/n_input) #---------- The learning rate.\n",
    "n_epoch = n_nodes*2 #--------------------- The stop learning point.\n",
    "n_batch = math.ceil(sqrt(sqrt(n_input))) #- Number of selection data in per step.\n",
    "n_backpro = math.ceil(n_input/n_batch) #--- Number of Backpro in per epoch.\n",
    "n_cluster = 3 #---------------------------- Number of clusters.\n",
    "n_diplay = round(n_epoch/n_layers) #------- Number of getting code and runnig the K-Means."
   ]
  },
  {
   "cell_type": "code",
   "execution_count": 21,
   "metadata": {},
   "outputs": [],
   "source": [
    "results_cos=[] #--------------------------- A list to keep all NMI scores.\n",
    "loss_cost_cos=[] #------------------------- A list to keep all training evaluations.\n",
    "steps_cos=[] #----------------------------- A list to keep all steps.\n",
    "results_cor=[] #--------------------------- A list to keep all NMI scores.\n",
    "loss_cost_cor=[] #------------------------- A list to keep all training evaluations.\n",
    "steps_cor=[] #----------------------------- A list to keep all steps."
   ]
  },
  {
   "cell_type": "code",
   "execution_count": 22,
   "metadata": {
    "scrolled": true
   },
   "outputs": [],
   "source": [
    "with tf.Graph().as_default():    \n",
    "    with tf.variable_scope(\"autoencoder_model\"):                \n",
    "        x = tf.placeholder(\"float\", [None, n_input])   \n",
    "        phase_train = tf.placeholder(tf.bool)\n",
    "        code = encoder(x, int(n_code), phase_train)\n",
    "        output = decoder(code, int(n_code), phase_train)\n",
    "        cost = loss(output, x)\n",
    "        global_step = tf.Variable(0, name='global_step', trainable=False)\n",
    "        train_optimizer = training(cost, learning_rate, beta1, beta2, global_step)\n",
    "        sess = tf.Session()\n",
    "        init_op = tf.global_variables_initializer()\n",
    "        sess.run(init_op)"
   ]
  },
  {
   "cell_type": "code",
   "execution_count": 23,
   "metadata": {},
   "outputs": [
    {
     "name": "stdout",
     "output_type": "stream",
     "text": [
      "NMI Score for AE is: 0.97 and new cost is: 2.51 in 228 step. \n",
      "NMI Score for AE is: 1.00 and new cost is: 1.74 in 456 step. \n",
      "NMI Score for AE is: 1.00 and new cost is: 29.44 in 684 step. \n"
     ]
    }
   ],
   "source": [
    "# Training cycle\n",
    "epoch = 0\n",
    "first_pass = True\n",
    "while first_pass or epoch <= n_epoch:\n",
    "    first_pass = False\n",
    "    # Fit training with Backpropagation using batch data.\n",
    "    for i in range(n_backpro):\n",
    "        miniData, _ = trainSet_correlation.next_batch(n_batch)\n",
    "        _, new_cost = sess.run([train_optimizer,cost], feed_dict={x: miniData,\n",
    "                                                                  phase_train: True})       \n",
    "    #------------------------- End of the Optimization ---------------------------\n",
    "    epoch += 1\n",
    "    # Save the results after per (Size of input / n_layers) epochs.    \n",
    "    if epoch % n_diplay == 0 or epoch == n_epoch:\n",
    "        # Getting embedded codes and running K-Means on them.\n",
    "        ae_codes = sess.run(code, feed_dict={x: trainSet_correlation.whole_dataset()[0],\n",
    "                                         phase_train: False})        \n",
    "        idx = k_means_(ae_codes, n_cluster)\n",
    "        ae_nmi_cor = normalized_mutual_info_score(trainSet_correlation.whole_dataset()[1], idx)\n",
    "        results_cor.append(ae_nmi_cor)    \n",
    "        steps_cor.append(epoch)\n",
    "        loss_cost_cor.append(new_cost)    \n",
    "        print(\"NMI Score for AE is: {:0.2f} and new cost is: {:0.2f} in {:d} step. \"\n",
    "              .format(ae_nmi_cor, new_cost, epoch))"
   ]
  },
  {
   "cell_type": "code",
   "execution_count": 24,
   "metadata": {},
   "outputs": [],
   "source": [
    "with tf.Graph().as_default():    \n",
    "    with tf.variable_scope(\"autoencoder_model\"):                \n",
    "        x = tf.placeholder(\"float\", [None, n_input])   \n",
    "        phase_train = tf.placeholder(tf.bool)\n",
    "        code = encoder(x, int(n_code), phase_train)\n",
    "        output = decoder(code, int(n_code), phase_train)\n",
    "        cost = loss(output, x)\n",
    "        global_step = tf.Variable(0, name='global_step', trainable=False)\n",
    "        train_optimizer = training(cost, learning_rate, beta1, beta2, global_step)\n",
    "        sess = tf.Session()\n",
    "        init_op = tf.global_variables_initializer()\n",
    "        sess.run(init_op)"
   ]
  },
  {
   "cell_type": "code",
   "execution_count": 25,
   "metadata": {},
   "outputs": [
    {
     "name": "stdout",
     "output_type": "stream",
     "text": [
      "NMI Score for AE is: 0.97 and new cost is: 6.59 in 228 step. \n",
      "NMI Score for AE is: 0.97 and new cost is: 3.14 in 456 step. \n",
      "NMI Score for AE is: 0.97 and new cost is: 0.67 in 684 step. \n"
     ]
    }
   ],
   "source": [
    "# Training cycle\n",
    "epoch = 0\n",
    "first_pass = True\n",
    "while first_pass or epoch <= n_epoch:\n",
    "    first_pass = False\n",
    "    # Fit training with Backpropagation using batch data.\n",
    "    for i in range(n_backpro):\n",
    "        miniData, _ = trainSet_cosine.next_batch(n_batch)\n",
    "        _, new_cost = sess.run([train_optimizer,cost], feed_dict={x: miniData,\n",
    "                                                                  phase_train: True})       \n",
    "    #------------------------- End of the Optimization ---------------------------\n",
    "    epoch += 1\n",
    "    # Save the results after per (Size of input / n_layers) epochs.    \n",
    "    if epoch % n_diplay == 0 or epoch == n_epoch:\n",
    "        # Getting embedded codes and running K-Means on them.\n",
    "        ae_codes = sess.run(code, feed_dict={x: trainSet_cosine.whole_dataset()[0],\n",
    "                                         phase_train: False})        \n",
    "        idx = k_means_(ae_codes, n_cluster)\n",
    "        ae_nmi_cos = normalized_mutual_info_score(trainSet_cosine.whole_dataset()[1], idx)\n",
    "        results_cos.append(ae_nmi_cos)    \n",
    "        steps_cos.append(epoch)\n",
    "        loss_cost_cos.append(new_cost)    \n",
    "        print(\"NMI Score for AE is: {:0.2f} and new cost is: {:0.2f} in {:d} step. \"\n",
    "              .format(ae_nmi_cos, new_cost, epoch))"
   ]
  },
  {
   "cell_type": "code",
   "execution_count": 26,
   "metadata": {},
   "outputs": [],
   "source": [
    "spec_cluster_cos = spectral_clustering(trainSet_cosine.whole_dataset()[0], n_cluster)\n",
    "spec_nmi_cos = normalized_mutual_info_score(trainSet_cosine.whole_dataset()[1], spec_cluster_cos)\n",
    "#-----------------------------------------------------------------------------------------------------------\n",
    "k_means_indx_cos = k_means_(trainSet_cosine.whole_dataset()[0], n_cluster)\n",
    "k_means_nmi_cos = (normalized_mutual_info_score(trainSet_cosine.whole_dataset()[1], k_means_indx_cos))\n",
    "#-----------------------------------------------------------------------------------------------------------\n",
    "spec_cluster_cor = spectral_clustering(trainSet_correlation.whole_dataset()[0], n_cluster)\n",
    "spec_nmi_cor = normalized_mutual_info_score(trainSet_correlation.whole_dataset()[1], spec_cluster_cor)\n",
    "#-----------------------------------------------------------------------------------------------------------\n",
    "k_means_indx_cor = k_means_(trainSet_correlation.whole_dataset()[0], n_cluster)\n",
    "k_means_nmi_cor = (normalized_mutual_info_score(trainSet_correlation.whole_dataset()[1], k_means_indx_cor))"
   ]
  },
  {
   "cell_type": "code",
   "execution_count": 27,
   "metadata": {},
   "outputs": [
    {
     "data": {
      "image/png": "[encoded data removed]",
      "text/plain": [
       "<matplotlib.figure.Figure at 0x2953d7d9c50>"
      ]
     },
     "metadata": {},
     "output_type": "display_data"
    }
   ],
   "source": [
    "warnings.filterwarnings('ignore')\n",
    "plt.figure(figsize=(18, 6))\n",
    "plt.subplot(1,2,1)\n",
    "plt.errorbar(steps_cor, loss_cost_cor, label='Cost Trianing for Correlation Distance ', color='#000080', marker='o')\n",
    "plt.errorbar(steps_cos, loss_cost_cos, label='Cost Trianing for Cosine Distance ', color='#E3CF57', marker='o')\n",
    "plt.xlabel('Number of Epochs.')\n",
    "plt.ylabel('Cost')\n",
    "plt.grid()\n",
    "plt.title('Cost Function Trianing')\n",
    "plt.legend(loc='best')\n",
    "plt.subplot(1,2,2)\n",
    "plt.errorbar(steps_cor, results_cor, label='AE Normalized Correlation Distance ', color='#000080', marker='o')\n",
    "plt.errorbar(steps_cos, results_cos, label='AE Normalized Cosine Distance ', color='#E3CF57', marker='o')\n",
    "plt.xlabel('Number of Epochs.')\n",
    "plt.ylabel('NMI')\n",
    "plt.grid()\n",
    "plt.title(('NMI of AE Correlation is {:0.2f} and AE Cosine is {:0.2f}').format(ae_nmi_cor*100, ae_nmi_cos*100))\n",
    "plt.legend(loc='best')\n",
    "plt.show()"
   ]
  },
  {
   "cell_type": "code",
   "execution_count": 28,
   "metadata": {},
   "outputs": [
    {
     "name": "stdout",
     "output_type": "stream",
     "text": [
      "KMeans on Cosine: ---------------------------- 100.00\n",
      "KMeans on Correlation: ----------------------- 93.06\n",
      "Spectral Clustering on Cosine: --------------- 100.00\n",
      "Spectral Clustering on Correlation: ---------- 89.97\n",
      "Autoencoder Clustering on Cosine: ------------ 97.02\n",
      "Autoencoder Clustering on Correlation: ------- 100.00\n"
     ]
    }
   ],
   "source": [
    "print(\"KMeans on Cosine: ---------------------------- {:0.2f}\".format(k_means_nmi_cos*100))\n",
    "print(\"KMeans on Correlation: ----------------------- {:0.2f}\".format(k_means_nmi_cor*100))\n",
    "print(\"Spectral Clustering on Cosine: --------------- {:0.2f}\".format(spec_nmi_cos*100))\n",
    "print(\"Spectral Clustering on Correlation: ---------- {:0.2f}\".format(spec_nmi_cor*100))\n",
    "print(\"Autoencoder Clustering on Cosine: ------------ {:0.2f}\".format(ae_nmi_cos*100))\n",
    "print(\"Autoencoder Clustering on Correlation: ------- {:0.2f}\".format(ae_nmi_cor*100))"
   ]
  }
 ],
 "metadata": {
  "celltoolbar": "Raw Cell Format",
  "kernelspec": {
   "display_name": "Python 3",
   "language": "python",
   "name": "python3"
  },
  "language_info": {
   "codemirror_mode": {
    "name": "ipython",
    "version": 3
   },
   "file_extension": ".py",
   "mimetype": "text/x-python",
   "name": "python",
   "nbconvert_exporter": "python",
   "pygments_lexer": "ipython3",
   "version": "3.5.4"
  }
 },
 "nbformat": 4,
 "nbformat_minor": 1
}
