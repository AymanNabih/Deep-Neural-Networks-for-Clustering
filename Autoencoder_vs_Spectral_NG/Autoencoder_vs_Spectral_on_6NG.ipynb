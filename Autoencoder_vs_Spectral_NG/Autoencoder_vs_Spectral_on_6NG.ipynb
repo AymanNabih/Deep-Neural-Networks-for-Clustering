{
 "cells": [
  {
   "cell_type": "markdown",
   "metadata": {},
   "source": [
    "Author: Saman Paidar Nia"
   ]
  },
  {
   "cell_type": "markdown",
   "metadata": {},
   "source": [
    "Embedding News Groups dataset to 3-D in Spectral Clustering and Autoecoder for showing the power of Autoencoder model."
   ]
  },
  {
   "cell_type": "code",
   "execution_count": 1,
   "metadata": {},
   "outputs": [],
   "source": [
    "# Get important libraries for this class.\n",
    "import tensorflow as tf\n",
    "import numpy as np\n",
    "import matplotlib.pyplot as plt\n",
    "import warnings\n",
    "import csv\n",
    "import random\n",
    "import math\n",
    "#--------------------------------------------------------\n",
    "from tensorflow.python.ops import control_flow_ops\n",
    "from IPython.display import clear_output\n",
    "from scipy.spatial.distance import squareform, pdist\n",
    "from sklearn.preprocessing import normalize\n",
    "from numpy import linalg as LA\n",
    "from scipy.cluster.vq import kmeans, vq\n",
    "from sklearn.metrics import normalized_mutual_info_score\n",
    "from tqdm import tqdm"
   ]
  },
  {
   "cell_type": "code",
   "execution_count": 2,
   "metadata": {},
   "outputs": [],
   "source": [
    "class Similarity_func:\n",
    "    def sigmoidal_normalize(self, X):\n",
    "        X= (X - min(X)) / (max(X) - min(X))\n",
    "        return X"
   ]
  },
  {
   "cell_type": "code",
   "execution_count": 3,
   "metadata": {},
   "outputs": [],
   "source": [
    "class Cosine_Similarity(Similarity_func):\n",
    "    def get_matrix(self, data):\n",
    "        data = normalize(data, axis=0)\n",
    "        m = squareform(pdist(data, 'cosine'))\n",
    "        m = np.dot(LA.matrix_power(np.diag(np.sum(m, 0)), -1), m)\n",
    "        m = np.apply_along_axis(self.sigmoidal_normalize, 1, m)\n",
    "        np.fill_diagonal(m, 0.)\n",
    "        return m"
   ]
  },
  {
   "cell_type": "code",
   "execution_count": 4,
   "metadata": {},
   "outputs": [],
   "source": [
    "class Similarity_Dataset_Iterator():\n",
    "    def __init__(self, data, labels, similarity):\n",
    "        self.data = data\n",
    "        self.labels = labels\n",
    "        self.matrix = similarity.get_matrix(data)\n",
    "        self.data_size = self.matrix.shape[0]\n",
    "        self.current_index = 0\n",
    "    def next_batch(self, num):\n",
    "        data=self.matrix.transpose()\n",
    "        labels=self.labels\n",
    "        idx = np.arange(0 , len(data))\n",
    "        np.random.shuffle(idx)\n",
    "        idx = idx[:num]\n",
    "        data_shuffle = [data[ i] for i in idx]\n",
    "        labels_shuffle = [labels[ i] for i in idx]\n",
    "        return data_shuffle, labels_shuffle\n",
    "    def whole_dataset(self):\n",
    "        return (self.matrix.transpose(), self.labels)"
   ]
  },
  {
   "cell_type": "code",
   "execution_count": 5,
   "metadata": {},
   "outputs": [],
   "source": [
    "#  Using Scikit-Learn libraries to fetching the Newsgroups data set: http://scikit-learn.org\n",
    "def read_NewsGroup_data(similarity):\n",
    "    from sklearn.datasets import fetch_20newsgroups\n",
    "    from sklearn.decomposition import TruncatedSVD\n",
    "    from sklearn.feature_extraction.text import TfidfVectorizer\n",
    "    from sklearn.feature_extraction.text import HashingVectorizer\n",
    "    from sklearn.feature_extraction.text import TfidfTransformer\n",
    "    from sklearn.pipeline import make_pipeline\n",
    "    from sklearn.preprocessing import Normalizer\n",
    "    from sklearn import metrics\n",
    "    import logging\n",
    "    from optparse import OptionParser\n",
    "    import sys    \n",
    "    # Display progress logs on stdout\n",
    "    logging.basicConfig(level=logging.INFO,\n",
    "                        format='%(asctime)s %(levelname)s %(message)s')\n",
    "    # parse commandline arguments\n",
    "    op = OptionParser()\n",
    "    op.add_option(\"--lsa\",\n",
    "                  dest=\"n_components\", type=\"int\",\n",
    "                  help=\"Preprocess documents with latent semantic analysis.\")\n",
    "    op.add_option(\"--no-minibatch\",\n",
    "                  action=\"store_false\", dest=\"minibatch\", default=True,\n",
    "                  help=\"Use ordinary k-means algorithm (in batch mode).\")\n",
    "    op.add_option(\"--no-idf\",\n",
    "                  action=\"store_false\", dest=\"use_idf\", default=True,\n",
    "                  help=\"Disable Inverse Document Frequency feature weighting.\")\n",
    "    op.add_option(\"--use-hashing\",\n",
    "                  action=\"store_true\", default=False,\n",
    "                  help=\"Use a hashing feature vectorizer\")\n",
    "    op.add_option(\"--n-features\", type=int, default=10000,\n",
    "                  help=\"Maximum number of features (dimensions)\"\n",
    "                       \" to extract from text.\")\n",
    "    op.add_option(\"--verbose\",\n",
    "                  action=\"store_true\", dest=\"verbose\", default=False,\n",
    "                  help=\"Print progress reports inside k-means algorithm.\")\n",
    "    def is_interactive():\n",
    "        return not hasattr(sys.modules['__main__'], '__file__')\n",
    "    # work-around for Jupyter notebook and IPython console\n",
    "    argv = [] if is_interactive() else sys.argv[1:]\n",
    "    (opts, args) = op.parse_args(argv)\n",
    "    if len(args) > 0:\n",
    "        op.error(\"this script takes no arguments.\")\n",
    "        sys.exit(1)\n",
    "    # Display progress logs on stdout\n",
    "   #############################################################################\n",
    "    # Load some categories from the training set\n",
    "    categories_6NG = ['alt.atheism','comp.sys.mac.hardware','rec.motorcycles',\n",
    "                      'rec.sport.hockey','soc.religion.christian','talk.religion.misc']\n",
    "    # Uncomment the following to do the analysis on all the categories\n",
    "    # categories = None\n",
    "    dataset = fetch_20newsgroups(subset='all', categories=categories_6NG,\n",
    "                                 shuffle=True, random_state=42)\n",
    "    labels = dataset.target[:1200]\n",
    "    true_k = np.unique(labels).shape[0]\n",
    "    if opts.use_hashing:\n",
    "        if opts.use_idf:\n",
    "            # Perform an IDF normalization on the output of HashingVectorizer\n",
    "            hasher = HashingVectorizer(n_features=opts.n_features,\n",
    "                                       stop_words='english', alternate_sign=False,norm=None, binary=False)\n",
    "            vectorizer = make_pipeline(hasher, TfidfTransformer())\n",
    "        else:\n",
    "            vectorizer = HashingVectorizer(n_features=opts.n_features,stop_words='english',\n",
    "                                           alternate_sign=False, norm='l2',binary=False)\n",
    "    else:\n",
    "        vectorizer = TfidfVectorizer(max_df=0.5, max_features=opts.n_features,min_df=2,\n",
    "                                     stop_words='english',use_idf=opts.use_idf)\n",
    "    X = vectorizer.fit_transform(dataset.data[:1200])\n",
    "    if opts.n_components:    \n",
    "        # Vectorizer results are normalized, which makes KMeans behave as\n",
    "        # spherical k-means for better results. Since LSA/SVD results are\n",
    "        # not normalized, we have to redo the normalization.\n",
    "        svd = TruncatedSVD(opts.n_components)\n",
    "        normalizer = Normalizer(copy=False)\n",
    "        lsa = make_pipeline(svd, normalizer)\n",
    "        X = lsa.fit_transform(X)\n",
    "        explained_variance = svd.explained_variance_ratio_.sum()\n",
    "    return Similarity_Dataset_Iterator(X.toarray(), labels, similarity)"
   ]
  },
  {
   "cell_type": "code",
   "execution_count": 6,
   "metadata": {},
   "outputs": [],
   "source": [
    "# Call Cosine_Similarity as similarity dataset.\n",
    "data_set_train = read_NewsGroup_data(Cosine_Similarity())"
   ]
  },
  {
   "cell_type": "code",
   "execution_count": 7,
   "metadata": {},
   "outputs": [],
   "source": [
    "def k_means_(X, n_cluster):\n",
    "    kmeans_centroids,_ =  kmeans(X,n_cluster)\n",
    "    kmeans_, _ = vq(X, kmeans_centroids)\n",
    "    return kmeans_"
   ]
  },
  {
   "cell_type": "code",
   "execution_count": 8,
   "metadata": {},
   "outputs": [],
   "source": [
    "n_code = '32' #------------------------------ The number of output value or embedding data codes.\n",
    "n_input = data_set_train.data_size #--------- Number of input data.\n",
    "# The autoencoder hidden layers\n",
    "n_hidden_1 = 1024\n",
    "n_hidden_2 = 512\n",
    "n_hidden_3 = 256\n",
    "n_hidden_4 = 128\n",
    "n_node_layers = (n_input+n_hidden_1+n_hidden_2+n_hidden_3+n_hidden_4+int(n_code))"
   ]
  },
  {
   "cell_type": "code",
   "execution_count": 9,
   "metadata": {},
   "outputs": [],
   "source": [
    "def encoder(x, n_code, phase_train):    \n",
    "    with tf.variable_scope(\"encoder\"):        \n",
    "        with tf.variable_scope(\"hidden_1\"):\n",
    "            hidden_1 = layer(x, [n_input, n_hidden_1], [n_hidden_1], phase_train)\n",
    "        with tf.variable_scope(\"hidden_2\"):\n",
    "            hidden_2 = layer(hidden_1, [n_hidden_1, n_hidden_2], [n_hidden_2], phase_train)\n",
    "        with tf.variable_scope(\"hidden_3\"):\n",
    "            hidden_3 = layer(hidden_2, [n_hidden_2, n_hidden_3], [n_hidden_3], phase_train)\n",
    "        with tf.variable_scope(\"hidden_4\"):\n",
    "            hidden_4 = layer(hidden_3, [n_hidden_3, n_hidden_4], [n_hidden_4], phase_train)\n",
    "        with tf.variable_scope(\"code\"):\n",
    "            code = layer(hidden_4, [n_hidden_4, n_code], [n_code], phase_train)\n",
    "    return code"
   ]
  },
  {
   "cell_type": "code",
   "execution_count": 10,
   "metadata": {},
   "outputs": [],
   "source": [
    "def decoder(code, n_code, phase_train):\n",
    "    with tf.variable_scope(\"decoder\"):\n",
    "        with tf.variable_scope(\"hidden_1\"):\n",
    "            hidden_1 = layer(code, [n_code, n_hidden_4], [n_hidden_4], phase_train)\n",
    "        with tf.variable_scope(\"hidden_2\"):\n",
    "            hidden_2 = layer(hidden_1, [n_hidden_4, n_hidden_3], [n_hidden_3], phase_train)\n",
    "        with tf.variable_scope(\"hidden_3\"):\n",
    "            hidden_3 = layer(hidden_2, [n_hidden_3, n_hidden_2], [n_hidden_2], phase_train)\n",
    "        with tf.variable_scope(\"hidden_4\"):\n",
    "            hidden_4 = layer(hidden_3, [n_hidden_2, n_hidden_1], [n_hidden_1], phase_train)\n",
    "        with tf.variable_scope(\"output\"):\n",
    "            output = layer(hidden_4, [n_hidden_1, n_input], [n_input], phase_train)\n",
    "    return output"
   ]
  },
  {
   "cell_type": "code",
   "execution_count": 11,
   "metadata": {},
   "outputs": [],
   "source": [
    "def layer_batch_norm(x, n_out, phase_train):\n",
    "    beta_init = tf.constant_initializer(value=0.0, dtype=tf.float32)\n",
    "    gamma_init = tf.constant_initializer(value=1.0, dtype=tf.float32)\n",
    "    beta = tf.get_variable(\"beta\", [n_out], initializer=beta_init)\n",
    "    gamma = tf.get_variable(\"gamma\", [n_out], initializer=gamma_init)\n",
    "    batch_mean, batch_var = tf.nn.moments(x, [0], name='moments')\n",
    "    ema = tf.train.ExponentialMovingAverage(decay=0.9)\n",
    "    ema_apply_op = ema.apply([batch_mean, batch_var])\n",
    "    ema_mean, ema_var = ema.average(batch_mean), ema.average(batch_var)\n",
    "    def mean_var_with_update():\n",
    "        with tf.control_dependencies([ema_apply_op]):\n",
    "            return tf.identity(batch_mean), tf.identity(batch_var)\n",
    "    mean, var = control_flow_ops.cond(phase_train, mean_var_with_update, lambda: (ema_mean, ema_var))\n",
    "    reshaped_x = tf.reshape(x, [-1, 1, 1, n_out])\n",
    "    normed = tf.nn.batch_norm_with_global_normalization(reshaped_x, mean, var, beta, gamma, 1e-3, True)\n",
    "    return tf.reshape(normed, [-1, n_out])"
   ]
  },
  {
   "cell_type": "code",
   "execution_count": 12,
   "metadata": {},
   "outputs": [],
   "source": [
    "def layer(input, weight_shape, bias_shape, phase_train):\n",
    "    weight_init = tf.random_normal_initializer(stddev=(1.0 / weight_shape[0]) ** 0.5)\n",
    "    bias_init = tf.constant_initializer(value=0)\n",
    "    W = tf.get_variable(\"W\", weight_shape, initializer=weight_init)\n",
    "    b = tf.get_variable(\"b\", bias_shape, initializer=bias_init)\n",
    "    logits = tf.matmul(input, W) + b\n",
    "    return tf.nn.sigmoid(layer_batch_norm(logits, weight_shape[1], phase_train))"
   ]
  },
  {
   "cell_type": "code",
   "execution_count": 13,
   "metadata": {},
   "outputs": [],
   "source": [
    "def loss(output, x):\n",
    "    with tf.variable_scope(\"training\"):\n",
    "        l2 = tf.reduce_sum(tf.square(tf.subtract(output, x)), 1)\n",
    "        train_loss = tf.reduce_mean(l2)\n",
    "        train_summary_op = tf.summary.scalar(\"train_cost\", train_loss)\n",
    "        return train_loss"
   ]
  },
  {
   "cell_type": "code",
   "execution_count": 14,
   "metadata": {},
   "outputs": [],
   "source": [
    "def training(cost, learning_rate, global_step):\n",
    "    optimizer = tf.train.AdamOptimizer(learning_rate, beta1=0.9, beta2=0.999, epsilon=1e-08, use_locking=False, name='Adam')\n",
    "    train_op = optimizer.minimize(cost, global_step=global_step)\n",
    "    return train_op"
   ]
  },
  {
   "cell_type": "code",
   "execution_count": 15,
   "metadata": {},
   "outputs": [],
   "source": [
    "def evaluate(output, x):\n",
    "    with tf.variable_scope(\"validation\"):\n",
    "        l2 = tf.sqrt(tf.reduce_sum(tf.square(tf.subtract(output, x, name=\"val_diff\")), 1))\n",
    "        val_loss = tf.reduce_mean(l2)\n",
    "        val_summary_op = tf.summary.scalar(\"val_cost\", val_loss)\n",
    "        return val_loss"
   ]
  },
  {
   "cell_type": "code",
   "execution_count": 16,
   "metadata": {},
   "outputs": [],
   "source": [
    "# Parameters\n",
    "n_layers = 12 #------------------------------ Number of Neural Networks Layers.\n",
    "learning_rate = 0.001 #---------------------- The learning rate, it should be a floating point value.\n",
    "n_batch = n_layers #------------------------- Number of selection data in per step.\n",
    "n_backpro =  math.ceil(n_input/n_batch) #---- Number of Backpro in per epoc\n",
    "n_epoch = math.ceil(n_input/n_layers) #------ The time priod of train.\n",
    "n_cluster = 6 #------------------------------ Number of clusters.\n",
    "n_diplay = 10 #------------------------------ Number of runnig the K-Means and NMI.\n",
    "results=[] #--------------------------------- A list to keep all NMI scores.\n",
    "loss_cost=[] #------------------------------- A list to keep all training evaluations.\n",
    "steps=[] #----------------------------------- A list to keep all steps."
   ]
  },
  {
   "cell_type": "code",
   "execution_count": 17,
   "metadata": {},
   "outputs": [],
   "source": [
    "with tf.Graph().as_default():    \n",
    "    with tf.variable_scope(\"autoencoder_model\"):                \n",
    "        x = tf.placeholder(\"float\", [None, n_input])   \n",
    "        phase_train = tf.placeholder(tf.bool)\n",
    "        code = encoder(x, int(n_code), phase_train)\n",
    "        output = decoder(code, int(n_code), phase_train)\n",
    "        cost = loss(output, x)\n",
    "        global_step = tf.Variable(0, name='global_step', trainable=False)\n",
    "        train_optimizer = training(cost, learning_rate, global_step)\n",
    "        eval_optimizer = evaluate(output, x)\n",
    "        summary_op = tf.summary.merge_all()\n",
    "        sess = tf.Session()\n",
    "        init_op = tf.global_variables_initializer()\n",
    "        sess.run(init_op)"
   ]
  },
  {
   "cell_type": "code",
   "execution_count": 18,
   "metadata": {},
   "outputs": [
    {
     "name": "stderr",
     "output_type": "stream",
     "text": [
      "\r",
      "  0%|                                                                                          | 0/100 [00:00<?, ?it/s]"
     ]
    },
    {
     "name": "stdout",
     "output_type": "stream",
     "text": [
      "NMI Score for AE is: 0.35 and new cost is: 303.43 in 0 step. \n"
     ]
    },
    {
     "name": "stderr",
     "output_type": "stream",
     "text": [
      " 10%|████████                                                                         | 10/100 [01:59<17:54, 11.94s/it]"
     ]
    },
    {
     "name": "stdout",
     "output_type": "stream",
     "text": [
      "NMI Score for AE is: 0.37 and new cost is: 88.41 in 10 step. \n"
     ]
    },
    {
     "name": "stderr",
     "output_type": "stream",
     "text": [
      " 20%|████████████████▏                                                                | 20/100 [04:02<16:10, 12.13s/it]"
     ]
    },
    {
     "name": "stdout",
     "output_type": "stream",
     "text": [
      "NMI Score for AE is: 0.37 and new cost is: 35.19 in 20 step. \n"
     ]
    },
    {
     "name": "stderr",
     "output_type": "stream",
     "text": [
      " 30%|████████████████████████▎                                                        | 30/100 [05:58<13:57, 11.96s/it]"
     ]
    },
    {
     "name": "stdout",
     "output_type": "stream",
     "text": [
      "NMI Score for AE is: 0.38 and new cost is: 16.87 in 30 step. \n"
     ]
    },
    {
     "name": "stderr",
     "output_type": "stream",
     "text": [
      " 40%|████████████████████████████████▍                                                | 40/100 [07:49<11:43, 11.73s/it]"
     ]
    },
    {
     "name": "stdout",
     "output_type": "stream",
     "text": [
      "NMI Score for AE is: 0.38 and new cost is: 9.21 in 40 step. \n"
     ]
    },
    {
     "name": "stderr",
     "output_type": "stream",
     "text": [
      " 50%|████████████████████████████████████████▌                                        | 50/100 [09:35<09:35, 11.52s/it]"
     ]
    },
    {
     "name": "stdout",
     "output_type": "stream",
     "text": [
      "NMI Score for AE is: 0.39 and new cost is: 5.42 in 50 step. \n"
     ]
    },
    {
     "name": "stderr",
     "output_type": "stream",
     "text": [
      " 60%|████████████████████████████████████████████████▌                                | 60/100 [11:35<07:43, 11.59s/it]"
     ]
    },
    {
     "name": "stdout",
     "output_type": "stream",
     "text": [
      "NMI Score for AE is: 0.41 and new cost is: 3.49 in 60 step. \n"
     ]
    },
    {
     "name": "stderr",
     "output_type": "stream",
     "text": [
      " 70%|████████████████████████████████████████████████████████▋                        | 70/100 [13:20<05:42, 11.43s/it]"
     ]
    },
    {
     "name": "stdout",
     "output_type": "stream",
     "text": [
      "NMI Score for AE is: 0.43 and new cost is: 2.46 in 70 step. \n"
     ]
    },
    {
     "name": "stderr",
     "output_type": "stream",
     "text": [
      " 80%|████████████████████████████████████████████████████████████████▊                | 80/100 [15:02<03:45, 11.28s/it]"
     ]
    },
    {
     "name": "stdout",
     "output_type": "stream",
     "text": [
      "NMI Score for AE is: 0.47 and new cost is: 2.04 in 80 step. \n"
     ]
    },
    {
     "name": "stderr",
     "output_type": "stream",
     "text": [
      " 90%|████████████████████████████████████████████████████████████████████████▉        | 90/100 [16:44<01:51, 11.16s/it]"
     ]
    },
    {
     "name": "stdout",
     "output_type": "stream",
     "text": [
      "NMI Score for AE is: 0.52 and new cost is: 1.73 in 90 step. \n"
     ]
    },
    {
     "name": "stderr",
     "output_type": "stream",
     "text": [
      " 99%|████████████████████████████████████████████████████████████████████████████████▏| 99/100 [18:16<00:11, 11.08s/it]"
     ]
    },
    {
     "name": "stdout",
     "output_type": "stream",
     "text": [
      "NMI Score for AE is: 0.61 and new cost is: 1.43 in 99 step. \n"
     ]
    },
    {
     "name": "stderr",
     "output_type": "stream",
     "text": [
      "100%|████████████████████████████████████████████████████████████████████████████████| 100/100 [18:27<00:00, 11.07s/it]\n"
     ]
    }
   ],
   "source": [
    "# Training cycle\n",
    "for epoch in tqdm(range(n_epoch)):\n",
    "    average_cost = 0.\n",
    "    # Fit training with Backpropagation using batch data.\n",
    "    for i in range(n_backpro):\n",
    "        minibatch, _ = data_set_train.next_batch(n_batch)\n",
    "        _, new_cost = sess.run([train_optimizer, cost], feed_dict={x: minibatch,\n",
    "                                                                   phase_train: True})\n",
    "        average_cost += new_cost/n_backpro\n",
    "        ############## End of the Backpropagation with Random Walk ##############\n",
    "    miniData, _ = data_set_train.next_batch(data_set_train.data_size)\n",
    "    val_loss = sess.run(eval_optimizer, feed_dict={x: miniData,\n",
    "                                                   phase_train: True})    \n",
    "    ae_codes = sess.run(code, feed_dict={x: data_set_train.whole_dataset()[0],\n",
    "                                         phase_train: True})\n",
    "            ############## End of the Optimization ##############\n",
    "    # Save the results after per 10 epochs.\n",
    "    if epoch % n_diplay == 0 or epoch == n_epoch-1:\n",
    "        # Running K-Means on Embedding Data.\n",
    "        idx = k_means_(ae_codes, n_cluster)\n",
    "        ae_nmi = normalized_mutual_info_score(data_set_train.whole_dataset()[1], idx)\n",
    "        results.append(ae_nmi)    \n",
    "        steps.append(epoch)\n",
    "        loss_cost.append(average_cost)    \n",
    "        print(\"NMI Score for AE is: {:0.2f} and new cost is: {:0.2f} in {:d} step. \"\n",
    "              .format(ae_nmi,new_cost, epoch))"
   ]
  },
  {
   "cell_type": "code",
   "execution_count": 19,
   "metadata": {
    "scrolled": false
   },
   "outputs": [
    {
     "data": {
      "image/png": "[encoded data removed]",
      "text/plain": [
       "<matplotlib.figure.Figure at 0x1a5944494e0>"
      ]
     },
     "metadata": {},
     "output_type": "display_data"
    }
   ],
   "source": [
    "plt.errorbar(steps, loss_cost, label='Autoencoder Cost Trianing', color='r')\n",
    "plt.ylabel('NMI')\n",
    "plt.grid()\n",
    "plt.title(('Cost Function Trianing after {:d} epochs is {:0.2f}.').format(n_epoch,new_cost))\n",
    "plt.legend(loc='best')\n",
    "plt.show()"
   ]
  },
  {
   "cell_type": "code",
   "execution_count": 20,
   "metadata": {},
   "outputs": [
    {
     "data": {
      "image/png": "[encoded data removed]",
      "text/plain": [
       "<matplotlib.figure.Figure at 0x1a59271f320>"
      ]
     },
     "metadata": {},
     "output_type": "display_data"
    }
   ],
   "source": [
    "plt.errorbar(steps, results, label='Autoencoder on Normalized Cosine Similarity', color='g')\n",
    "plt.ylabel('NMI')\n",
    "plt.grid()\n",
    "plt.title(('NMI of AE after {:d} epochs is {:0.2f}.').format(n_epoch,ae_nmi))\n",
    "plt.legend(loc='best')\n",
    "plt.show()"
   ]
  },
  {
   "cell_type": "code",
   "execution_count": 21,
   "metadata": {},
   "outputs": [],
   "source": [
    "warnings.filterwarnings('ignore')\n",
    "origin_label = np.array(data_set_train.whole_dataset()[1]).astype(int)\n",
    "colors = [('#E3CF57', '1'),('#0000FF', '2'),('#8A360F','3'),('#006400', '2'),('#000080', '4'),('#FF0000','1')]"
   ]
  },
  {
   "cell_type": "code",
   "execution_count": 22,
   "metadata": {},
   "outputs": [
    {
     "data": {
      "image/png": "[encoded data removed]",
      "text/plain": [
       "<matplotlib.figure.Figure at 0x1a597f79828>"
      ]
     },
     "metadata": {},
     "output_type": "display_data"
    }
   ],
   "source": [
    "plt.figure(figsize=(14, 5))\n",
    "for num in range(6):\n",
    "    plt.subplot(1,2,1)\n",
    "    plt.scatter(ae_codes[:,0], ae_codes[:,1], 1, color='b', marker='x')\n",
    "    plt.title(\"Autoencoder Embbeding\")\n",
    "    plt.legend()\n",
    "    plt.subplot(1,2,2)\n",
    "    plt.scatter([ae_codes[:,0][i] for i in range(len(idx)) if idx[i] == num],\n",
    "                [ae_codes[:,1][i] for i in range(len(idx)) if idx[i] == num],\n",
    "                10, label=str(num+1), color = colors[num][0], marker=colors[num][1])\n",
    "    plt.title(\"Autoencoder Clustering\")\n",
    "    plt.legend()\n",
    "plt.show()"
   ]
  }
 ],
 "metadata": {
  "celltoolbar": "Raw Cell Format",
  "kernelspec": {
   "display_name": "Python 3",
   "language": "python",
   "name": "python3"
  },
  "language_info": {
   "codemirror_mode": {
    "name": "ipython",
    "version": 3
   },
   "file_extension": ".py",
   "mimetype": "text/x-python",
   "name": "python",
   "nbconvert_exporter": "python",
   "pygments_lexer": "ipython3",
   "version": "3.5.4"
  }
 },
 "nbformat": 4,
 "nbformat_minor": 1
}
