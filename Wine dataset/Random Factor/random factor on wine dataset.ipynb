{
 "cells": [
  {
   "cell_type": "markdown",
   "metadata": {},
   "source": [
    "Author: Saman Paidar Nia"
   ]
  },
  {
   "cell_type": "markdown",
   "metadata": {},
   "source": [
    "All resources are listed at the bottom of the page."
   ]
  },
  {
   "cell_type": "code",
   "execution_count": 1,
   "metadata": {},
   "outputs": [],
   "source": [
    "# Get important libraries for this class.\n",
    "import tensorflow as tf\n",
    "import numpy as np\n",
    "import matplotlib.pyplot as plt\n",
    "import warnings\n",
    "import csv\n",
    "import random\n",
    "import math\n",
    "import scipy\n",
    "#--------------------------------------------------------\n",
    "from tensorflow.python.ops import control_flow_ops\n",
    "from IPython.display import clear_output\n",
    "from scipy.spatial.distance import squareform, pdist\n",
    "from sklearn.preprocessing import normalize\n",
    "from numpy import linalg as LA\n",
    "from scipy.cluster.vq import kmeans, vq\n",
    "from sklearn.metrics import normalized_mutual_info_score\n",
    "from math import sqrt"
   ]
  },
  {
   "cell_type": "code",
   "execution_count": 2,
   "metadata": {},
   "outputs": [],
   "source": [
    "class Compute_Standardization:\n",
    "    def standardization(self, X):\n",
    "        return normalize(X, axis=0)"
   ]
  },
  {
   "cell_type": "code",
   "execution_count": 3,
   "metadata": {},
   "outputs": [],
   "source": [
    "class Similarity_Laplacian:\n",
    "    def laplacian(self, A):\n",
    "        S = np.sum(A, 0)\n",
    "        D = np.diag(S)\n",
    "        D = LA.matrix_power(D, -1)\n",
    "        L = np.dot(D, A)\n",
    "        return L"
   ]
  },
  {
   "cell_type": "code",
   "execution_count": 4,
   "metadata": {},
   "outputs": [],
   "source": [
    "class Similarity_Normalization:\n",
    "    def normalization(self, V):\n",
    "        return (V - min(V)) / (max(V) - min(V))"
   ]
  },
  {
   "cell_type": "code",
   "execution_count": 5,
   "metadata": {},
   "outputs": [],
   "source": [
    "class Cosine_Similarity(Compute_Standardization, Similarity_Laplacian, Similarity_Normalization):\n",
    "    def get_matrix(self, Data):\n",
    "        X = self.standardization(Data)\n",
    "        X = pdist(X, 'cosine')\n",
    "        X = squareform(X)\n",
    "        L = self.laplacian(X)\n",
    "        Y = np.apply_along_axis(self.normalization, 1, L)\n",
    "        np.fill_diagonal(Y, 0.)\n",
    "        return Y"
   ]
  },
  {
   "cell_type": "code",
   "execution_count": 6,
   "metadata": {},
   "outputs": [],
   "source": [
    "class Correlation_Similarity(Compute_Standardization, Similarity_Laplacian, Similarity_Normalization):\n",
    "    def get_matrix(self, Data):\n",
    "        X = self.standardization(Data)\n",
    "        X = pdist(X, 'correlation')\n",
    "        X = squareform(X)\n",
    "        L = self.laplacian(X)\n",
    "        Y = np.apply_along_axis(self.normalization, 1, L)\n",
    "        np.fill_diagonal(Y, 0.)\n",
    "        return Y"
   ]
  },
  {
   "cell_type": "code",
   "execution_count": 7,
   "metadata": {},
   "outputs": [],
   "source": [
    "class Similarity_Dataset_Iterator():\n",
    "    def __init__(self, data, labels, similarity):\n",
    "        self.data = data\n",
    "        self.labels = labels\n",
    "        self.matrix = similarity.get_matrix(data)\n",
    "        self.data_size = self.matrix.shape[0]\n",
    "        self.current_index = 0\n",
    "    def next_batch(self, num):\n",
    "        data=self.matrix.transpose()\n",
    "        labels=self.labels\n",
    "        idx = np.arange(0 , len(data))\n",
    "        np.random.shuffle(idx)\n",
    "        idx = idx[:num]\n",
    "        data_shuffle = [data[ i] for i in idx]\n",
    "        labels_shuffle = [labels[ i] for i in idx]\n",
    "        return data_shuffle, labels_shuffle\n",
    "    def whole_dataset(self):\n",
    "        return (self.matrix.transpose(), self.labels)"
   ]
  },
  {
   "cell_type": "code",
   "execution_count": 8,
   "metadata": {},
   "outputs": [],
   "source": [
    "def read_wine_data(similarity):\n",
    "    with open('../Random Factor/Wine_Dataset/wine_data.csv') as csvfile:\n",
    "        csvreader = csv.reader(csvfile)\n",
    "        next(csvreader, None) # skip header\n",
    "        dataset = list(csvreader)\n",
    "    random.shuffle(dataset)\n",
    "    datatrain = dataset[:int(len(dataset))]\n",
    "    data = [data for data in datatrain]\n",
    "    labels = [data[13] for data in datatrain]   \n",
    "    return Similarity_Dataset_Iterator(data, labels, similarity)"
   ]
  },
  {
   "cell_type": "code",
   "execution_count": 9,
   "metadata": {},
   "outputs": [],
   "source": [
    "# Call Correlation_Similarity as similarity dataset.\n",
    "trainSet_correlation = read_wine_data(Correlation_Similarity())"
   ]
  },
  {
   "cell_type": "code",
   "execution_count": 10,
   "metadata": {},
   "outputs": [],
   "source": [
    "# Call Cosine_Similarity as similarity dataset.\n",
    "trainSet_cosine = read_wine_data(Cosine_Similarity())"
   ]
  },
  {
   "cell_type": "code",
   "execution_count": 11,
   "metadata": {},
   "outputs": [],
   "source": [
    "n_input = trainSet_correlation.data_size #--------- Number of input data.\n",
    "# Define the number of hidden layer. \n",
    "if n_input >= 256:\n",
    "    Nn = int(512)\n",
    "elif n_input >= 128:\n",
    "    Nn = int(256)"
   ]
  },
  {
   "cell_type": "code",
   "execution_count": 12,
   "metadata": {},
   "outputs": [],
   "source": [
    "n_hidden_1 = int(Nn/2) #-------------------- The autoencoder hidden layer 1.\n",
    "n_code = str(int(n_hidden_1/2)) #----------- The number of output dimension value."
   ]
  },
  {
   "cell_type": "code",
   "execution_count": 13,
   "metadata": {},
   "outputs": [],
   "source": [
    "n_nodes = (n_input+n_hidden_1+int(n_code))"
   ]
  },
  {
   "cell_type": "code",
   "execution_count": 14,
   "metadata": {},
   "outputs": [
    {
     "name": "stdout",
     "output_type": "stream",
     "text": [
      "Layer 1:  178\n",
      "Layer 2:  128\n",
      "Layer 3:  64\n"
     ]
    }
   ],
   "source": [
    "print('Layer 1: ', n_input)\n",
    "print('Layer 2: ', n_hidden_1)\n",
    "print('Layer 3: ', int(n_code))"
   ]
  },
  {
   "cell_type": "code",
   "execution_count": 15,
   "metadata": {},
   "outputs": [],
   "source": [
    "def k_means_(X, n_clusters):\n",
    "    kmeans_centroids,_ =  kmeans(X,n_clusters)\n",
    "    kmeans_, _ = vq(X, kmeans_centroids)\n",
    "    return kmeans_"
   ]
  },
  {
   "cell_type": "code",
   "execution_count": 16,
   "metadata": {},
   "outputs": [],
   "source": [
    "def encoder(x, n_code, phase_train):    \n",
    "    with tf.variable_scope(\"encoder\"):        \n",
    "        with tf.variable_scope(\"hidden_1\"):\n",
    "            hidden_1 = layer(x, [n_input, n_hidden_1], [n_hidden_1], phase_train)              \n",
    "        with tf.variable_scope(\"code\"):\n",
    "            code = layer(hidden_1, [n_hidden_1, n_code], [n_code], phase_train)\n",
    "    return code"
   ]
  },
  {
   "cell_type": "code",
   "execution_count": 17,
   "metadata": {},
   "outputs": [],
   "source": [
    "def decoder(code, n_code, phase_train):\n",
    "    with tf.variable_scope(\"decoder\"):\n",
    "        with tf.variable_scope(\"hidden_1\"):\n",
    "            hidden_1 = layer(code, [n_code, n_hidden_1], [n_hidden_1], phase_train)        \n",
    "        with tf.variable_scope(\"output\"):\n",
    "            output = layer(hidden_1, [n_hidden_1, n_input], [n_input], phase_train)\n",
    "    return output"
   ]
  },
  {
   "cell_type": "code",
   "execution_count": 18,
   "metadata": {},
   "outputs": [],
   "source": [
    "def layer_batch_norm(x, n_out, phase_train):\n",
    "    beta_init = tf.constant_initializer(value=0.0, dtype=tf.float32)\n",
    "    gamma_init = tf.constant_initializer(value=1.0, dtype=tf.float32)\n",
    "    beta = tf.get_variable(\"beta\", [n_out], initializer=beta_init)\n",
    "    gamma = tf.get_variable(\"gamma\", [n_out], initializer=gamma_init)\n",
    "    batch_mean, batch_var = tf.nn.moments(x, [0], name='moments')\n",
    "    ema = tf.train.ExponentialMovingAverage(decay=0.9)\n",
    "    ema_apply_op = ema.apply([batch_mean, batch_var])\n",
    "    ema_mean, ema_var = ema.average(batch_mean), ema.average(batch_var)\n",
    "    def mean_var_with_update():\n",
    "        with tf.control_dependencies([ema_apply_op]):\n",
    "            return tf.identity(batch_mean), tf.identity(batch_var)\n",
    "    mean, var = control_flow_ops.cond(phase_train, mean_var_with_update, lambda: (ema_mean, ema_var))\n",
    "    reshaped_x = tf.reshape(x, [-1, 1, 1, n_out])\n",
    "    normed = tf.nn.batch_norm_with_global_normalization(reshaped_x, mean, var, beta, gamma, 1e-3, True)\n",
    "    return tf.reshape(normed, [-1, n_out])"
   ]
  },
  {
   "cell_type": "code",
   "execution_count": 19,
   "metadata": {},
   "outputs": [],
   "source": [
    "def layer(input, weight_shape, bias_shape, phase_train):\n",
    "    value_init = (1.0 / weight_shape[0] ** 0.5)\n",
    "    weight_init = tf.random_normal_initializer(stddev = value_init, seed = None)\n",
    "    bias_init = tf.constant_initializer(value=0.0, dtype=tf.float32)\n",
    "    W = tf.get_variable(\"W\", weight_shape, initializer=weight_init)\n",
    "    b = tf.get_variable(\"b\", bias_shape, initializer=bias_init)\n",
    "    logits = tf.matmul(input, W) + b\n",
    "    return tf.nn.sigmoid(layer_batch_norm(logits, weight_shape[1], phase_train))"
   ]
  },
  {
   "cell_type": "code",
   "execution_count": 20,
   "metadata": {},
   "outputs": [],
   "source": [
    "def loss(output, x):\n",
    "    with tf.variable_scope(\"training\"):\n",
    "        train_loss = tf.reduce_mean(tf.reduce_sum(tf.square(tf.subtract(output, x)), 1))\n",
    "        return train_loss"
   ]
  },
  {
   "cell_type": "code",
   "execution_count": 21,
   "metadata": {},
   "outputs": [],
   "source": [
    "def training(cost, learning_rate, beta1, beta2, global_step):\n",
    "    optimizer = tf.train.AdamOptimizer(learning_rate, beta1, beta2, epsilon=1e-08, use_locking=False, name='Adam')\n",
    "    train_op = optimizer.minimize(cost, global_step=global_step)\n",
    "    return train_op"
   ]
  },
  {
   "cell_type": "code",
   "execution_count": 22,
   "metadata": {
    "scrolled": false
   },
   "outputs": [],
   "source": [
    "# Parameters\n",
    "n_layers = 3 #------------------------------ Number of Neural Networks Layers.\n",
    "beta1 = 0.9 #------------------------------- The decay rate 1.  \n",
    "beta2 = 0.999 #----------------------------- The decay rate 2.\n",
    "learning_rate = (beta1/n_input) #----------- The learning rate.\n",
    "n_epoch = n_nodes #------------------------- The stop learning point.\n",
    "n_batch = math.ceil(sqrt(sqrt(n_input))) #-- Number of selection data in per step.\n",
    "n_backpro = math.ceil(n_input/n_batch) #---- Number of Backpro in per epoch.\n",
    "n_clusters = 3 #---------------------------- Number of clusters.\n",
    "n_diplay = math.ceil(n_epoch/n_layers) #---- Number of getting code and runnig the K-Means."
   ]
  },
  {
   "cell_type": "code",
   "execution_count": 23,
   "metadata": {},
   "outputs": [],
   "source": [
    "results_cos=[] #--------------------------- A list to keep all NMI scores.\n",
    "loss_cost_cos=[] #------------------------- A list to keep all training evaluations.\n",
    "seeding_cos=[] #--------------------------- A list to keep all steps."
   ]
  },
  {
   "cell_type": "code",
   "execution_count": 24,
   "metadata": {},
   "outputs": [
    {
     "name": "stdout",
     "output_type": "stream",
     "text": [
      "NMI score for AE is: 97.38 and new cost is: 2.83 in 1 step of seeding.\n",
      "NMI score for AE is: 100.00 and new cost is: 2.00 in 2 step of seeding.\n",
      "NMI score for AE is: 97.33 and new cost is: 0.80 in 3 step of seeding.\n",
      "NMI score for AE is: 100.00 and new cost is: 2.53 in 4 step of seeding.\n",
      "NMI score for AE is: 100.00 and new cost is: 1.13 in 5 step of seeding.\n",
      "NMI score for AE is: 100.00 and new cost is: 6.18 in 6 step of seeding.\n",
      "NMI score for AE is: 100.00 and new cost is: 2.55 in 7 step of seeding.\n",
      "NMI score for AE is: 97.32 and new cost is: 2.68 in 8 step of seeding.\n",
      "NMI score for AE is: 100.00 and new cost is: 1.38 in 9 step of seeding.\n",
      "NMI score for AE is: 100.00 and new cost is: 1.10 in 10 step of seeding.\n"
     ]
    }
   ],
   "source": [
    "for i in range(1, 11):\n",
    "    with tf.Graph().as_default():    \n",
    "        with tf.variable_scope(\"autoencoder_model\"):                \n",
    "            x = tf.placeholder(\"float\", [None, n_input])   \n",
    "            phase_train = tf.placeholder(tf.bool)\n",
    "            code = encoder(x, int(n_code), phase_train)\n",
    "            output = decoder(code, int(n_code), phase_train)\n",
    "            cost = loss(output, x)\n",
    "            global_step = tf.Variable(0, name='global_step', trainable=False)\n",
    "            train_optimizer = training(cost, learning_rate, beta1, beta2, global_step)\n",
    "            sess = tf.Session()\n",
    "            init_op = tf.global_variables_initializer()\n",
    "            sess.run(init_op)\n",
    "            # Training cycle\n",
    "            epoch = 0\n",
    "            while epoch == 0 or epoch <= n_epoch:\n",
    "                # Fit training with backpropagation using batch data.\n",
    "                for j in range(n_backpro):\n",
    "                    miniData, _ = trainSet_cosine.next_batch(n_batch)\n",
    "                    _, new_cost = sess.run([train_optimizer,cost], feed_dict={x: miniData,\n",
    "                                                                              phase_train: True})       \n",
    "                #------------------------- End of the Optimization ------------------------------\n",
    "                epoch += 1\n",
    "    # Getting embedded codes and running K-Means on them.\n",
    "    ae_codes = sess.run(code, feed_dict={x: trainSet_cosine.whole_dataset()[0],\n",
    "                                         phase_train: False})        \n",
    "    idx = k_means_(ae_codes, n_clusters)\n",
    "    ae_nmi_cos = normalized_mutual_info_score(trainSet_cosine.whole_dataset()[1], idx)\n",
    "    ae_nmi_cos = ae_nmi_cos*100\n",
    "    results_cos.append(ae_nmi_cos)    \n",
    "    seeding_cos.append(i)\n",
    "    loss_cost_cos.append(new_cost)    \n",
    "    print(\"NMI score for AE is: {:0.2f} and new cost is: {:0.2f} in {:d} step of seeding.\"\n",
    "          .format(ae_nmi_cos, new_cost, i))"
   ]
  },
  {
   "cell_type": "code",
   "execution_count": 25,
   "metadata": {},
   "outputs": [
    {
     "name": "stdout",
     "output_type": "stream",
     "text": [
      "The Average of NMI Score for >>> 10 <<< Random Factors in Autoencoder Cosine is >>> 99.20 <<<\n"
     ]
    }
   ],
   "source": [
    "print(\"The Average of NMI Score for >>> {:d} <<< Random Factors in Autoencoder Cosine is >>> {:0.2f} <<<\"\n",
    "      .format(len(seeding_cos),(np.mean(results_cos))))"
   ]
  },
  {
   "cell_type": "code",
   "execution_count": 26,
   "metadata": {},
   "outputs": [
    {
     "data": {
      "text/plain": [
       "[97.380652119019118,\n",
       " 100.0,\n",
       " 97.326382964867364,\n",
       " 100.0,\n",
       " 100.0,\n",
       " 100.0,\n",
       " 100.0,\n",
       " 97.324565996287149,\n",
       " 100.0,\n",
       " 100.0]"
      ]
     },
     "execution_count": 26,
     "metadata": {},
     "output_type": "execute_result"
    }
   ],
   "source": [
    "results_cos"
   ]
  },
  {
   "cell_type": "code",
   "execution_count": 27,
   "metadata": {},
   "outputs": [],
   "source": [
    "results_cor=[] #--------------------------- A list to keep all NMI scores.\n",
    "loss_cost_cor=[] #------------------------- A list to keep all training evaluations.\n",
    "seeding_cor=[] #--------------------------- A list to keep all steps."
   ]
  },
  {
   "cell_type": "code",
   "execution_count": 28,
   "metadata": {
    "scrolled": true
   },
   "outputs": [
    {
     "name": "stdout",
     "output_type": "stream",
     "text": [
      "NMI score for AE is: 82.12 and new cost is: 13.55 in 1 step of seeding.\n",
      "NMI score for AE is: 91.20 and new cost is: 7.18 in 2 step of seeding.\n",
      "NMI score for AE is: 91.20 and new cost is: 1.60 in 3 step of seeding.\n",
      "NMI score for AE is: 91.19 and new cost is: 5.52 in 4 step of seeding.\n",
      "NMI score for AE is: 92.82 and new cost is: 12.15 in 5 step of seeding.\n",
      "NMI score for AE is: 90.16 and new cost is: 6.54 in 6 step of seeding.\n",
      "NMI score for AE is: 92.82 and new cost is: 7.28 in 7 step of seeding.\n",
      "NMI score for AE is: 74.88 and new cost is: 0.67 in 8 step of seeding.\n",
      "NMI score for AE is: 77.40 and new cost is: 8.31 in 9 step of seeding.\n",
      "NMI score for AE is: 91.20 and new cost is: 1.60 in 10 step of seeding.\n"
     ]
    }
   ],
   "source": [
    "for i in range(1, 11):\n",
    "    with tf.Graph().as_default():    \n",
    "        with tf.variable_scope(\"autoencoder_model\"):                \n",
    "            x = tf.placeholder(\"float\", [None, n_input])   \n",
    "            phase_train = tf.placeholder(tf.bool)\n",
    "            code = encoder(x, int(n_code), phase_train)\n",
    "            output = decoder(code, int(n_code), phase_train)\n",
    "            cost = loss(output, x)\n",
    "            global_step = tf.Variable(0, name='global_step', trainable=False)\n",
    "            train_optimizer = training(cost, learning_rate, beta1, beta2, global_step)\n",
    "            sess = tf.Session()\n",
    "            init_op = tf.global_variables_initializer()\n",
    "            sess.run(init_op)\n",
    "            # Training cycle\n",
    "            epoch = 0\n",
    "            while epoch == 0 or epoch <= n_epoch:\n",
    "                # Fit training with backpropagation using batch data.\n",
    "                for j in range(n_backpro):\n",
    "                    miniData, _ = trainSet_correlation.next_batch(n_batch)\n",
    "                    _, new_cost = sess.run([train_optimizer,cost], feed_dict={x: miniData,\n",
    "                                                                              phase_train: True})       \n",
    "                #------------------------- End of the Optimization ------------------------------\n",
    "                epoch += 1\n",
    "    # Getting embedded codes and running K-Means on them.\n",
    "    ae_codes = sess.run(code, feed_dict={x: trainSet_correlation.whole_dataset()[0],\n",
    "                                         phase_train: False})        \n",
    "    idx = k_means_(ae_codes, n_clusters)\n",
    "    ae_nmi_cor = normalized_mutual_info_score(trainSet_correlation.whole_dataset()[1], idx)\n",
    "    ae_nmi_cor = ae_nmi_cor*100\n",
    "    results_cor.append(ae_nmi_cor)    \n",
    "    seeding_cor.append(i)\n",
    "    loss_cost_cor.append(new_cost)    \n",
    "    print(\"NMI score for AE is: {:0.2f} and new cost is: {:0.2f} in {:d} step of seeding.\"\n",
    "          .format(ae_nmi_cor, new_cost, i))"
   ]
  },
  {
   "cell_type": "code",
   "execution_count": 29,
   "metadata": {},
   "outputs": [
    {
     "name": "stdout",
     "output_type": "stream",
     "text": [
      "The Average of NMI Score for >>> 10 <<< Random Factors in Autoencoder Correlation is >>> 87.50 <<<\n"
     ]
    }
   ],
   "source": [
    "print(\"The Average of NMI Score for >>> {:d} <<< Random Factors in Autoencoder Correlation is >>> {:0.2f} <<<\"\n",
    "      .format(len(seeding_cor), (np.mean(results_cor))))"
   ]
  },
  {
   "cell_type": "code",
   "execution_count": 30,
   "metadata": {},
   "outputs": [
    {
     "data": {
      "text/plain": [
       "[82.116307862121147,\n",
       " 91.197433589135997,\n",
       " 91.197433589135983,\n",
       " 91.191389182136902,\n",
       " 92.820412415237172,\n",
       " 90.164037687895785,\n",
       " 92.815104601913305,\n",
       " 74.879008652959129,\n",
       " 77.402426727696692,\n",
       " 91.197433589135983]"
      ]
     },
     "execution_count": 30,
     "metadata": {},
     "output_type": "execute_result"
    }
   ],
   "source": [
    "results_cor"
   ]
  },
  {
   "cell_type": "code",
   "execution_count": 31,
   "metadata": {},
   "outputs": [
    {
     "data": {
      "image/png": "[encoded data removed]",
      "text/plain": [
       "<matplotlib.figure.Figure at 0x287b340ee48>"
      ]
     },
     "metadata": {},
     "output_type": "display_data"
    }
   ],
   "source": [
    "warnings.filterwarnings('ignore')\n",
    "plt.ylim(30, 109)\n",
    "plt.xlim(1, 10)\n",
    "plt.plot(seeding_cor, results_cor, label='Autoencoder Correlation Simialrity', color='m', marker='s')\n",
    "plt.plot(seeding_cos, results_cos, label='Autoencoder Cosine Simialrity', color='g', marker='o')\n",
    "plt.xlabel('Number of Seeding.')\n",
    "plt.ylabel('NMI')\n",
    "plt.grid()\n",
    "plt.title(('The Average of NMI Score for\\n AE Correlation is <{:0.2f}> and AE Cosine is <{:0.2f}>')\n",
    "          .format((np.mean(results_cor)),(np.mean(results_cos))))\n",
    "plt.legend(loc='best')\n",
    "plt.show()"
   ]
  },
  {
   "cell_type": "markdown",
   "metadata": {},
   "source": [
    "____________________________________________________________________________________________________________________________"
   ]
  },
  {
   "cell_type": "markdown",
   "metadata": {},
   "source": [
    "____________________________________________________________________________________________________________________________"
   ]
  },
  {
   "cell_type": "markdown",
   "metadata": {},
   "source": [
    "Refrences:\n",
    "\n",
    "SciPy:\n",
    "\n",
    "SciPy (the library) Jones E, Oliphant E, Peterson P, et al. SciPy: Open Source Scientific Tools for Python, 2001-, http://www.scipy.org/ [Online; accessed 2018-02-20]. Here’s an example of a BibTeX entry:\n",
    "\n",
    "@Misc{, author = {Eric Jones and Travis Oliphant and Pearu Peterson and others}, title = {{SciPy}: Open source scientific tools for {Python}}, year = {2001--}, url = \"http://www.scipy.org/\", note = {[Online; accessed\n",
    "\n",
    "NumPy & SciPy:\n",
    "\n",
    "Stéfan van der Walt, S. Chris Colbert and Gaël Varoquaux. The NumPy Array: A Structure for Efficient Numerical Computation, Computing in Science & Engineering, 13, 22-30 (2011), DOI:10.1109/MCSE.2011.37 (publisher link)\n",
    "\n",
    "IPython:\n",
    "\n",
    "Fernando Pérez and Brian E. Granger. IPython: A System for Interactive Scientific Computing, Computing in Science & Engineering, 9, 21-29 (2007), DOI:10.1109/MCSE.2007.53 (publisher link)\n",
    "\n",
    "Matplotlib:\n",
    "\n",
    "John D. Hunter. Matplotlib: A 2D Graphics Environment, Computing in Science & Engineering, 9, 90-95 (2007), DOI:10.1109/MCSE.2007.55 (publisher link)\n",
    "\n",
    "Scikit-learn:\n",
    "\n",
    "Fabian Pedregosa, Gaël Varoquaux, Alexandre Gramfort, Vincent Michel, Bertrand Thirion, Olivier Grisel, Mathieu Blondel, Peter Prettenhofer, Ron Weiss, Vincent Dubourg, Jake Vanderplas, Alexandre Passos, David Cournapeau, Matthieu Brucher, Matthieu Perrot, Édouard Duchesnay. Scikit-learn: Machine Learning in Python, Journal of Machine Learning Research, 12, 2825-2830 (2011) (publisher link)\n",
    "\n",
    "TensorFlow:\n",
    "\n",
    "@misc{tensorflow2015-whitepaper, title={ {TensorFlow}: Large-Scale Machine Learning on Heterogeneous Systems}, url={https://www.tensorflow.org/}, note={Software available from tensorflow.org},\n",
    "\n",
    "Jupyter Notebooks:\n",
    "\n",
    "@conference{Kluyver:2016aa, Author = {Thomas Kluyver and Benjamin Ragan-Kelley and Fernando P{\\'e}rez and Brian Granger and Matthias Bussonnier and Jonathan Frederic and Kyle Kelley and Jessica Hamrick and Jason Grout and Sylvain Corlay and Paul Ivanov and Dami{\\'a}n Avila and Safia Abdalla and Carol Willing}, Booktitle = {Positioning and Power in Academic Publishing: Players, Agents and Agendas}, Editor = {F. Loizides and B. Schmidt}, Organization = {IOS Press}, Pages = {87 - 90}, Title = {Jupyter Notebooks -- a publishing format for reproducible computational workflows}, Year = {2016}}"
   ]
  }
 ],
 "metadata": {
  "celltoolbar": "Raw Cell Format",
  "kernelspec": {
   "display_name": "Python 3",
   "language": "python",
   "name": "python3"
  },
  "language_info": {
   "codemirror_mode": {
    "name": "ipython",
    "version": 3
   },
   "file_extension": ".py",
   "mimetype": "text/x-python",
   "name": "python",
   "nbconvert_exporter": "python",
   "pygments_lexer": "ipython3",
   "version": "3.5.4"
  }
 },
 "nbformat": 4,
 "nbformat_minor": 1
}
